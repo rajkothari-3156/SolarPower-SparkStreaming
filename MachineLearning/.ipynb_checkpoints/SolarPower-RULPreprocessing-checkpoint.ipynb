{
 "cells": [
  {
   "cell_type": "code",
   "execution_count": 6,
   "metadata": {},
   "outputs": [
    {
     "name": "stdout",
     "output_type": "stream",
     "text": [
      "Collecting mleap==0.8.1\n",
      "  Downloading mleap-0.8.1.tar.gz (22 kB)\n",
      "Requirement already satisfied: numpy>=1.8.2 in /home/ec2-user/anaconda3/envs/python3/lib/python3.6/site-packages (from mleap==0.8.1) (1.19.5)\n",
      "Requirement already satisfied: six>=1.10.0 in /home/ec2-user/anaconda3/envs/python3/lib/python3.6/site-packages (from mleap==0.8.1) (1.15.0)\n",
      "Collecting argparse>=1.1\n",
      "  Downloading argparse-1.4.0-py2.py3-none-any.whl (23 kB)\n",
      "Requirement already satisfied: scipy>=0.13.0b1 in /home/ec2-user/anaconda3/envs/python3/lib/python3.6/site-packages (from mleap==0.8.1) (1.5.3)\n",
      "Requirement already satisfied: pandas>=0.18.1 in /home/ec2-user/anaconda3/envs/python3/lib/python3.6/site-packages (from mleap==0.8.1) (1.1.5)\n",
      "Requirement already satisfied: scikit-learn>=0.18.dev0 in /home/ec2-user/anaconda3/envs/python3/lib/python3.6/site-packages (from mleap==0.8.1) (0.24.1)\n",
      "Collecting nose-exclude>=0.5.0\n",
      "  Downloading nose-exclude-0.5.0.tar.gz (7.4 kB)\n",
      "Requirement already satisfied: nose in /home/ec2-user/anaconda3/envs/python3/lib/python3.6/site-packages (from nose-exclude>=0.5.0->mleap==0.8.1) (1.3.7)\n",
      "Requirement already satisfied: python-dateutil>=2.7.3 in /home/ec2-user/anaconda3/envs/python3/lib/python3.6/site-packages (from pandas>=0.18.1->mleap==0.8.1) (2.8.1)\n",
      "Requirement already satisfied: pytz>=2017.2 in /home/ec2-user/anaconda3/envs/python3/lib/python3.6/site-packages (from pandas>=0.18.1->mleap==0.8.1) (2021.1)\n",
      "Requirement already satisfied: threadpoolctl>=2.0.0 in /home/ec2-user/anaconda3/envs/python3/lib/python3.6/site-packages (from scikit-learn>=0.18.dev0->mleap==0.8.1) (2.1.0)\n",
      "Requirement already satisfied: joblib>=0.11 in /home/ec2-user/anaconda3/envs/python3/lib/python3.6/site-packages (from scikit-learn>=0.18.dev0->mleap==0.8.1) (1.0.1)\n",
      "Building wheels for collected packages: mleap, nose-exclude\n",
      "  Building wheel for mleap (setup.py) ... \u001b[?25ldone\n",
      "\u001b[?25h  Created wheel for mleap: filename=mleap-0.8.1-py3-none-any.whl size=36866 sha256=9d8a13b4e9d512109fcf94095642be2a293b20869cbfddb3a57c4c633bd05eb8\n",
      "  Stored in directory: /home/ec2-user/.cache/pip/wheels/71/5b/16/5c34a1af380b5145ef1820807ca6824721d4f9d9b04b8d5e9b\n",
      "  Building wheel for nose-exclude (setup.py) ... \u001b[?25ldone\n",
      "\u001b[?25h  Created wheel for nose-exclude: filename=nose_exclude-0.5.0-py3-none-any.whl size=4392 sha256=c6b4011bed010781bfb81ec02c50cc298d81b6a83305d7ec7231c8ce967821ff\n",
      "  Stored in directory: /home/ec2-user/.cache/pip/wheels/5a/7d/fd/7c4c7fc5907b1717fd54e0ac8175188ffb6089b2299d0ece7a\n",
      "Successfully built mleap nose-exclude\n",
      "Installing collected packages: nose-exclude, argparse, mleap\n",
      "Successfully installed argparse-1.4.0 mleap-0.8.1 nose-exclude-0.5.0\n",
      "\u001b[33mWARNING: You are using pip version 21.2.4; however, version 21.3 is available.\n",
      "You should consider upgrading via the '/home/ec2-user/anaconda3/envs/python3/bin/python -m pip install --upgrade pip' command.\u001b[0m\n",
      "Collecting pyspark==2.2.2\n",
      "  Downloading pyspark-2.2.2.tar.gz (188.0 MB)\n",
      "\u001b[K     |████████████████████████████████| 188.0 MB 13 kB/s s eta 0:00:01\n",
      "\u001b[?25hRequirement already satisfied: py4j==0.10.7 in /home/ec2-user/anaconda3/envs/python3/lib/python3.6/site-packages (from pyspark==2.2.2) (0.10.7)\n",
      "Building wheels for collected packages: pyspark\n",
      "  Building wheel for pyspark (setup.py) ... \u001b[?25ldone\n",
      "\u001b[?25h  Created wheel for pyspark: filename=pyspark-2.2.2-py2.py3-none-any.whl size=188418338 sha256=6e8acfb3782b232c6576a17aff5eea45fa57c496573a310ddc43ca763b5778ad\n",
      "  Stored in directory: /home/ec2-user/.cache/pip/wheels/68/01/79/c6be3ea38455b9c3608cffd26f8aa05064bb5c73bc881f35c8\n",
      "Successfully built pyspark\n",
      "Installing collected packages: pyspark\n",
      "  Attempting uninstall: pyspark\n",
      "    Found existing installation: pyspark 2.4.0\n",
      "    Uninstalling pyspark-2.4.0:\n",
      "      Successfully uninstalled pyspark-2.4.0\n",
      "\u001b[31mERROR: pip's dependency resolver does not currently take into account all the packages that are installed. This behaviour is the source of the following dependency conflicts.\n",
      "sagemaker-pyspark 1.4.2 requires pyspark==2.4.0, but you have pyspark 2.2.2 which is incompatible.\u001b[0m\n",
      "Successfully installed pyspark-2.2.2\n",
      "\u001b[33mWARNING: You are using pip version 21.2.4; however, version 21.3 is available.\n",
      "You should consider upgrading via the '/home/ec2-user/anaconda3/envs/python3/bin/python -m pip install --upgrade pip' command.\u001b[0m\n"
     ]
    }
   ],
   "source": [
    "!pip install mleap==0.8.1\n",
    "!pip install pyspark==2.2.2"
   ]
  },
  {
   "cell_type": "code",
   "execution_count": 7,
   "metadata": {
    "application/vnd.databricks.v1+cell": {
     "inputWidgets": {},
     "nuid": "eb8e67b8-00f1-4312-ba94-1d634ffe6491",
     "showTitle": false,
     "title": ""
    }
   },
   "outputs": [],
   "source": [
    "import mleap\n",
    "import mleap.pyspark\n",
    "from mleap.pyspark.spark_support import SimpleSparkSerializer\n",
    "from pyspark import keyword_only\n",
    "from pyspark.sql.functions import to_timestamp,hour,minute,when,col,current_timestamp,date_format,lit,unix_timestamp,expr,abs,to_date,rank,datediff\n",
    "from pyspark.sql.window import Window\n",
    "from pyspark.ml import Pipeline\n",
    "from pyspark.ml.feature import OneHotEncoder,StringIndexer,VectorAssembler\n",
    "from pyspark.ml.tuning import ParamGridBuilder, CrossValidator,TrainValidationSplit\n",
    "from pyspark.ml.regression import LinearRegression,RandomForestRegressor\n",
    "from pyspark.ml.evaluation import RegressionEvaluator\n",
    "import os\n",
    "import boto3\n",
    "\n",
    "# from pyspark.ml import Pipeline, Transformer\n",
    "# from pyspark.sql import DataFrame\n",
    "# from pyspark import keyword_only\n",
    "# from pyspark.ml import Transformer\n",
    "# from pyspark.ml.param.shared import HasOutputCols, Param, Params\n",
    "# from pyspark.ml.util import DefaultParamsReadable, DefaultParamsWritable\n",
    "# from pyspark.sql.functions import lit # for the dummy _transform"
   ]
  },
  {
   "cell_type": "code",
   "execution_count": 8,
   "metadata": {},
   "outputs": [],
   "source": [
    "# !wget https://s3-us-west-2.amazonaws.com/sparkml-mleap/0.9.6/jar/mleap_spark_assembly.jar"
   ]
  },
  {
   "cell_type": "code",
   "execution_count": 9,
   "metadata": {},
   "outputs": [
    {
     "data": {
      "text/plain": [
       "'2.2.2'"
      ]
     },
     "execution_count": 9,
     "metadata": {},
     "output_type": "execute_result"
    }
   ],
   "source": [
    "import pyspark\n",
    "pyspark.__version__"
   ]
  },
  {
   "cell_type": "code",
   "execution_count": 10,
   "metadata": {},
   "outputs": [],
   "source": [
    "# !python -v"
   ]
  },
  {
   "cell_type": "code",
   "execution_count": 11,
   "metadata": {},
   "outputs": [],
   "source": [
    "# !cp ./mleap_spark_assembly.jar /home/ec2-user/anaconda3/envs/python3/lib/python3.6/site-packages/pyspark/jars"
   ]
  },
  {
   "cell_type": "code",
   "execution_count": 12,
   "metadata": {},
   "outputs": [],
   "source": [
    "from pyspark import SparkConf\n",
    "from pyspark.sql import SparkSession\n",
    "import sagemaker_pyspark\n",
    "import botocore.session\n",
    "\n",
    "session = botocore.session.get_session()\n",
    "# credentials = session.get_credentials()\n",
    "\n",
    "conf = (SparkConf().set(\"spark.driver.extraClassPath\", \":\".join(sagemaker_pyspark.classpath_jars())))"
   ]
  },
  {
   "cell_type": "code",
   "execution_count": 13,
   "metadata": {},
   "outputs": [
    {
     "data": {
      "text/html": [
       "\n",
       "            <div>\n",
       "                <p><b>SparkSession - in-memory</b></p>\n",
       "                \n",
       "        <div>\n",
       "            <p><b>SparkContext</b></p>\n",
       "\n",
       "            <p><a href=\"http://172.16.63.61:4040\">Spark UI</a></p>\n",
       "\n",
       "            <dl>\n",
       "              <dt>Version</dt>\n",
       "                <dd><code>v2.2.2</code></dd>\n",
       "              <dt>Master</dt>\n",
       "                <dd><code>local[*]</code></dd>\n",
       "              <dt>AppName</dt>\n",
       "                <dd><code>test</code></dd>\n",
       "            </dl>\n",
       "        </div>\n",
       "        \n",
       "            </div>\n",
       "        "
      ],
      "text/plain": [
       "<pyspark.sql.session.SparkSession at 0x7ff9ecb7d3c8>"
      ]
     },
     "execution_count": 13,
     "metadata": {},
     "output_type": "execute_result"
    }
   ],
   "source": [
    "import pyspark # only run after findspark.init()\n",
    "from pyspark.sql import SparkSession\n",
    "# May take awhile locally\n",
    "spark = SparkSession.builder.config(conf = conf).appName(\"test\").getOrCreate()\n",
    "spark"
   ]
  },
  {
   "cell_type": "code",
   "execution_count": 14,
   "metadata": {},
   "outputs": [
    {
     "data": {
      "text/plain": [
       "'2.2.2'"
      ]
     },
     "execution_count": 14,
     "metadata": {},
     "output_type": "execute_result"
    }
   ],
   "source": [
    "spark.version"
   ]
  },
  {
   "cell_type": "code",
   "execution_count": 15,
   "metadata": {
    "application/vnd.databricks.v1+cell": {
     "inputWidgets": {},
     "nuid": "5f38fae8-be38-4acf-a96a-e64301a9c3c4",
     "showTitle": false,
     "title": ""
    }
   },
   "outputs": [],
   "source": [
    "rawdata_s3 = 's3a://solarpowerbackend/rawdata/'\n",
    "processed_s3 = 's3a://solarpowerbackend/processed/'\n",
    "model_s3 = 's3a://solarpowerbackend/model/'"
   ]
  },
  {
   "cell_type": "code",
   "execution_count": 16,
   "metadata": {
    "application/vnd.databricks.v1+cell": {
     "inputWidgets": {},
     "nuid": "2341568f-48c4-40c4-8978-a7492f09a1ed",
     "showTitle": false,
     "title": ""
    }
   },
   "outputs": [],
   "source": [
    "raw_df = spark.read.parquet(f'{processed_s3}rul_dataset')\n",
    "raw_df = raw_df.withColumn('TIME',date_format(col('DATE_TIME'),'HH:mm:ss'))\n",
    "raw_df = raw_df.filter(col('TIME').between('06:00:00','18:15:00'))"
   ]
  },
  {
   "cell_type": "code",
   "execution_count": 17,
   "metadata": {
    "application/vnd.databricks.v1+cell": {
     "inputWidgets": {},
     "nuid": "66a93bfb-3428-4cb8-bde6-2d4b908a335c",
     "showTitle": false,
     "title": ""
    }
   },
   "outputs": [],
   "source": [
    "raw_df = raw_df.withColumn('DATE',to_date(col('DATE_TIME')))"
   ]
  },
  {
   "cell_type": "code",
   "execution_count": 18,
   "metadata": {
    "application/vnd.databricks.v1+cell": {
     "inputWidgets": {},
     "nuid": "e28d1d2f-aa0c-46e6-80a7-88bf4f264a5c",
     "showTitle": false,
     "title": ""
    }
   },
   "outputs": [],
   "source": [
    "only_fault_df = raw_df.select('DATE_TIME','FAULT_FLAG','SOURCE_KEY','DATE').filter(col('Fault_Flag')==1)"
   ]
  },
  {
   "cell_type": "code",
   "execution_count": 19,
   "metadata": {
    "application/vnd.databricks.v1+cell": {
     "inputWidgets": {},
     "nuid": "6308a28e-e0f0-4fad-80b9-6be593b48360",
     "showTitle": false,
     "title": ""
    }
   },
   "outputs": [
    {
     "data": {
      "text/plain": [
       "DataFrame[DATE_TIME: timestamp, FAULT_FLAG: int, SOURCE_KEY: string, DATE: date]"
      ]
     },
     "metadata": {},
     "output_type": "display_data"
    }
   ],
   "source": [
    "display(only_fault_df)"
   ]
  },
  {
   "cell_type": "code",
   "execution_count": 20,
   "metadata": {
    "application/vnd.databricks.v1+cell": {
     "inputWidgets": {},
     "nuid": "f677a8db-07e5-4e47-800f-f25b1969fd6f",
     "showTitle": false,
     "title": ""
    }
   },
   "outputs": [],
   "source": [
    "# rank_window = Window.partitionBy(only_fault_df['SOURCE_KEY'],only_fault_df['DATE']).orderBy(only_fault_df['DATE_TIME'])\n",
    "# fault_rank_on_day = rank().over(rank_window)"
   ]
  },
  {
   "cell_type": "code",
   "execution_count": 21,
   "metadata": {
    "application/vnd.databricks.v1+cell": {
     "inputWidgets": {},
     "nuid": "69112abb-7687-4050-98d3-2d50017de492",
     "showTitle": false,
     "title": ""
    }
   },
   "outputs": [],
   "source": [
    "fault_rank_df = only_fault_df.select(col('SOURCE_KEY').alias('FAULT_SOURCE_KEY'),col('DATE_TIME').alias('FAULT_DATE_TIME'))"
   ]
  },
  {
   "cell_type": "code",
   "execution_count": 22,
   "metadata": {
    "application/vnd.databricks.v1+cell": {
     "inputWidgets": {},
     "nuid": "cca49772-5931-49ad-923d-d50624fdb835",
     "showTitle": false,
     "title": ""
    }
   },
   "outputs": [],
   "source": [
    "rul_oncondition = (fault_rank_df['FAULT_DATE_TIME']>=raw_df['DATE_TIME']) & (fault_rank_df['FAULT_SOURCE_KEY'] == raw_df['SOURCE_KEY'])"
   ]
  },
  {
   "cell_type": "code",
   "execution_count": 23,
   "metadata": {
    "application/vnd.databricks.v1+cell": {
     "inputWidgets": {},
     "nuid": "6f9ea89f-3eef-454b-a102-33f9e70440f9",
     "showTitle": false,
     "title": ""
    }
   },
   "outputs": [],
   "source": [
    "rul_df = fault_rank_df.join(raw_df,on = rul_oncondition,how = 'inner')"
   ]
  },
  {
   "cell_type": "code",
   "execution_count": 24,
   "metadata": {
    "application/vnd.databricks.v1+cell": {
     "inputWidgets": {},
     "nuid": "efc82229-5922-47c6-ac38-030f825e0dc2",
     "showTitle": false,
     "title": ""
    }
   },
   "outputs": [],
   "source": [
    "rul_df = rul_df.withColumn('RUL',(col('FAULT_DATE_TIME').cast('long') - col('DATE_TIME').cast('long'))/60 - datediff(col('FAULT_DATE_TIME'),col('DATE_TIME'))*47*15)"
   ]
  },
  {
   "cell_type": "code",
   "execution_count": 25,
   "metadata": {
    "application/vnd.databricks.v1+cell": {
     "inputWidgets": {},
     "nuid": "2c7430d3-3c64-410a-a8ac-e10c5a956137",
     "showTitle": false,
     "title": ""
    }
   },
   "outputs": [
    {
     "data": {
      "text/plain": [
       "DataFrame[FAULT_SOURCE_KEY: string, FAULT_DATE_TIME: timestamp, DATE_TIME: timestamp, AMBIENT_TEMPERATURE: double, MODULE_TEMPERATURE: double, IRRADIATION: double, PLANT_ID: int, SOURCE_KEY: string, DC_POWER: double, AC_POWER: double, DAILY_YIELD: double, TOTAL_YIELD: double, Fault_Flag: int, TIME: string, DATE: date, RUL: double]"
      ]
     },
     "metadata": {},
     "output_type": "display_data"
    }
   ],
   "source": [
    "display(rul_df)"
   ]
  },
  {
   "cell_type": "code",
   "execution_count": 26,
   "metadata": {
    "application/vnd.databricks.v1+cell": {
     "inputWidgets": {},
     "nuid": "ea6df919-d4dc-476f-ab3c-8e5853b1140c",
     "showTitle": false,
     "title": ""
    }
   },
   "outputs": [],
   "source": [
    "rul_df = rul_df.groupby('SOURCE_KEY','DATE_TIME','AMBIENT_TEMPERATURE','MODULE_TEMPERATURE','IRRADIATION','PLANT_ID','AC_POWER','DC_POWER','DAILY_YIELD','TOTAL_YIELD').min('RUL')\n",
    "rul_df = rul_df.withColumnRenamed('min(RUL)','label')\n",
    "\n",
    "# rul_df = rul_df.filter(col('RUL')>=1440)\n",
    "# rul_df = rul_df.withColumnRenamed('RUL','')"
   ]
  },
  {
   "cell_type": "code",
   "execution_count": 27,
   "metadata": {
    "application/vnd.databricks.v1+cell": {
     "inputWidgets": {},
     "nuid": "97012c12-abb0-4c13-aa81-378d9b819e51",
     "showTitle": false,
     "title": ""
    }
   },
   "outputs": [],
   "source": [
    "# rul_df = rul_df.withColumn('AC_POWER',col('AC_POWER') - col('AC_POWER')/(col('RUL')+1)*2)\n",
    "rul_df = rul_df.select('SOURCE_KEY', 'AMBIENT_TEMPERATURE', 'MODULE_TEMPERATURE', 'IRRADIATION', 'AC_POWER', 'DC_POWER', 'DAILY_YIELD', 'TOTAL_YIELD','label')"
   ]
  },
  {
   "cell_type": "code",
   "execution_count": 28,
   "metadata": {
    "application/vnd.databricks.v1+cell": {
     "inputWidgets": {},
     "nuid": "24522346-3201-477d-b6e3-219e1b976ef3",
     "showTitle": false,
     "title": ""
    }
   },
   "outputs": [],
   "source": [
    "# acdc_calc = ACDC_Calulator(outputCols=[\"a\", \"b\"], value=123.0)\n",
    "str_ind = StringIndexer().setInputCol('SOURCE_KEY').setOutputCol('SOURCE_KEY_NUM')\n",
    "ohe = OneHotEncoder().setInputCol('SOURCE_KEY_NUM').setOutputCol('encoded_Source_Key')"
   ]
  },
  {
   "cell_type": "code",
   "execution_count": 29,
   "metadata": {
    "application/vnd.databricks.v1+cell": {
     "inputWidgets": {},
     "nuid": "afd6288a-4d84-4825-a6ca-b8cac45cf6f5",
     "showTitle": false,
     "title": ""
    }
   },
   "outputs": [],
   "source": [
    "independent_features = ['AMBIENT_TEMPERATURE','MODULE_TEMPERATURE','IRRADIATION','AC_POWER','DC_POWER','DAILY_YIELD','encoded_Source_Key']\n",
    "model_input_vector = VectorAssembler().setInputCols(independent_features).setOutputCol('features')\n",
    "\n",
    "# rul_indexed_df = rul_indexed_df.withColumnRenamed('RUL','label')"
   ]
  },
  {
   "cell_type": "code",
   "execution_count": 30,
   "metadata": {
    "application/vnd.databricks.v1+cell": {
     "inputWidgets": {},
     "nuid": "55606f13-8f2f-45a5-a407-11dc989fc602",
     "showTitle": false,
     "title": ""
    }
   },
   "outputs": [
    {
     "data": {
      "text/plain": [
       "RandomForestRegressor_4d6ab63ffbe8c48c49f8"
      ]
     },
     "execution_count": 30,
     "metadata": {},
     "output_type": "execute_result"
    }
   ],
   "source": [
    "lr_model = LinearRegression().setFeaturesCol('features').setLabelCol('label')\n",
    "lr_model.setPredictionCol('LR_prediction')\n",
    "rf_model = RandomForestRegressor().setFeaturesCol('features').setLabelCol('label')\n",
    "rf_model.setPredictionCol('RF_prediction')\n"
   ]
  },
  {
   "cell_type": "code",
   "execution_count": 31,
   "metadata": {},
   "outputs": [],
   "source": [
    "# acdc_calc = ACDC_Calulator()\n",
    "rf_pipeline = Pipeline(stages = [str_ind,ohe,model_input_vector,rf_model])"
   ]
  },
  {
   "cell_type": "code",
   "execution_count": 32,
   "metadata": {},
   "outputs": [],
   "source": [
    "rf_model = rf_pipeline.fit(rul_df)\n",
    "rul_trained_df = rf_model.transform(rul_df)"
   ]
  },
  {
   "cell_type": "code",
   "execution_count": 40,
   "metadata": {},
   "outputs": [],
   "source": [
    "SimpleSparkSerializer().serializeToBundle(\n",
    "    rf_model, \"jar:file:/tmp/rfmodel.zip\", rul_trained_df\n",
    ")"
   ]
  },
  {
   "cell_type": "code",
   "execution_count": 41,
   "metadata": {},
   "outputs": [],
   "source": [
    "import zipfile\n",
    "\n",
    "with zipfile.ZipFile(\"/tmp/rfmodel.zip\") as zf:\n",
    "    zf.extractall(\"/tmp/rfmodel\")\n",
    "\n",
    "import tarfile\n",
    "\n",
    "with tarfile.open(\"/tmp/rfmodel.tar.gz\", \"w:gz\") as tar:\n",
    "    tar.add(\"/tmp/rfmodel/bundle.json\", arcname=\"bundle.json\")\n",
    "    tar.add(\"/tmp/rfmodel/root\", arcname=\"root\")"
   ]
  },
  {
   "cell_type": "code",
   "execution_count": 33,
   "metadata": {},
   "outputs": [
    {
     "data": {
      "text/plain": [
       "['AMBIENT_TEMPERATURE',\n",
       " 'MODULE_TEMPERATURE',\n",
       " 'IRRADIATION',\n",
       " 'AC_POWER',\n",
       " 'DC_POWER',\n",
       " 'DAILY_YIELD',\n",
       " 'encoded_Source_Key']"
      ]
     },
     "execution_count": 33,
     "metadata": {},
     "output_type": "execute_result"
    }
   ],
   "source": [
    "independent_features"
   ]
  },
  {
   "cell_type": "code",
   "execution_count": 34,
   "metadata": {},
   "outputs": [],
   "source": [
    "feature_list = []\n",
    "for col in independent_features:\n",
    "    if col =='encoded_Source_Key':\n",
    "        col = 'SOURCE_KEY'\n",
    "    feature_list.append(str(rul_df.select(col).collect()[0][col]))"
   ]
  },
  {
   "cell_type": "code",
   "execution_count": 35,
   "metadata": {},
   "outputs": [],
   "source": [
    "feature_string = ','.join(feature_list)"
   ]
  },
  {
   "cell_type": "code",
   "execution_count": 36,
   "metadata": {},
   "outputs": [
    {
     "data": {
      "text/plain": [
       "'34.40285233333333,46.7442812,0.5651963973333333,637.7,6510.0,5016.142857,1BY6WEcLGh8j5v7'"
      ]
     },
     "execution_count": 36,
     "metadata": {},
     "output_type": "execute_result"
    }
   ],
   "source": [
    "feature_string"
   ]
  },
  {
   "cell_type": "code",
   "execution_count": 53,
   "metadata": {},
   "outputs": [],
   "source": [
    "source_key_dict = {}\n",
    "for i,j in enumerate(rul_df.select('SOURCE_KEY').distinct().collect()):\n",
    "    source_key_dict[i] = j[0]"
   ]
  },
  {
   "cell_type": "code",
   "execution_count": null,
   "metadata": {},
   "outputs": [],
   "source": [
    "source_ke"
   ]
  },
  {
   "cell_type": "code",
   "execution_count": 54,
   "metadata": {},
   "outputs": [],
   "source": [
    "feature_string = '34.40285233333333,46.7442812,0.5651963973333333,637.7,6510.0,5016.142857,0'"
   ]
  },
  {
   "cell_type": "code",
   "execution_count": 74,
   "metadata": {},
   "outputs": [
    {
     "name": "stdout",
     "output_type": "stream",
     "text": [
      "Loading function\n"
     ]
    }
   ],
   "source": [
    "import json\n",
    "import urllib.parse\n",
    "import boto3\n",
    "from datetime import datetime\n",
    "print('Loading function')\n",
    "s3 = boto3.client('s3')"
   ]
  },
  {
   "cell_type": "code",
   "execution_count": 82,
   "metadata": {},
   "outputs": [
    {
     "name": "stdout",
     "output_type": "stream",
     "text": [
      "10/15/13/\n",
      "RAWDATA2021/10/15/13/KDS-S3-x8Hfx-2-2021-10-15-13-05-53-4d72421d-b831-4817-8352-d3c81453a21b\n"
     ]
    }
   ],
   "source": [
    "\n"
   ]
  },
  {
   "cell_type": "code",
   "execution_count": 84,
   "metadata": {},
   "outputs": [
    {
     "name": "stdout",
     "output_type": "stream",
     "text": [
      "1,2,3,46,34y8\n",
      "1,2,3,46,34y8\n",
      "1,2,3,46,34y8\n",
      "1,2,3,46,34y8\n",
      "1,2,3,46,34y8\n",
      "1,2,3,46,34y8\n",
      "1,2,3,46,34y8\n",
      "1,2,3,46,34y8\n",
      "1,2,3,46,34y8\n",
      "1,2,3,46,34y8\n",
      "1,2,3,46,34y8\n",
      "1,2,3,46,34y8\n",
      "1,2,3,46,34y8\n",
      "1,2,3,46,34y8\n",
      "1,2,3,46,34y8\n",
      "1,2,3,46,34y8\n",
      "1,2,3,46,34y8\n",
      "1,2,3,46,34y8\n",
      "1,2,3,46,34y8\n",
      "1,2,3,46,34y8\n",
      "1,2,3,46,34y8\n",
      "1,2,3,46,34y8\n",
      "1,2,3,46,34y8\n",
      "1,2,3,46,34y8\n",
      "1,2,3,46,34y8\n",
      "1,2,3,46,34y8\n",
      "1,2,3,46,34y8\n",
      "1,2,3,46,34y8\n",
      "1,2,3,46,34y8\n",
      "1,2,3,46,34y8\n",
      "1,2,3,46,34y8\n",
      "1,2,3,46,34y8\n",
      "1,2,3,46,34y8\n",
      "1,2,3,46,34y8\n",
      "1,2,3,46,34y8\n",
      "1,2,3,46,34y8\n",
      "1,2,3,46,34y8\n",
      "1,2,3,46,34y8\n",
      "1,2,3,46,34y8\n",
      "1,2,3,46,34y8\n",
      "1,2,3,46,34y8\n",
      "1,2,3,46,34y8\n",
      "1,2,3,46,34y8\n",
      "1,2,3,46,34y8\n",
      "1,2,3,46,34y8\n",
      "1,2,3,46,34y8\n",
      "1,2,3,46,34y8\n",
      "1,2,3,46,34y8\n",
      "1,2,3,46,34y8\n",
      "1,2,3,46,34y8\n",
      "1,2,3,46,34y8\n",
      "1,2,3,46,34y8\n",
      "1,2,3,46,34y8\n",
      "1,2,3,46,34y8\n",
      "1,2,3,46,34y8\n",
      "1,2,3,46,34y8\n",
      "1,2,3,46,34y8\n",
      "1,2,3,46,34y8\n",
      "1,2,3,46,34y8\n",
      "1,2,3,46,34y8\n",
      "1,2,3,46,34y8\n",
      "1,2,3,46,34y8\n",
      "1,2,3,46,34y8\n",
      "1,2,3,46,34y8\n",
      "1,2,3,46,34y8\n",
      "1,2,3,46,34y8\n",
      "1,2,3,46,34y8\n",
      "1,2,3,46,34y8\n",
      "1,2,3,46,34y8\n",
      "1,2,3,46,34y8\n",
      "1,2,3,46,34y8\n",
      "1,2,3,46,34y8\n",
      "1,2,3,46,34y8\n",
      "1,2,3,46,34y8\n",
      "1,2,3,46,34y8\n",
      "1,2,3,46,34y8\n",
      "1,2,3,46,34y8\n",
      "1,2,3,46,34y8\n",
      "1,2,3,46,34y8\n",
      "1,2,3,46,34y8\n",
      "1,2,3,46,34y8\n",
      "1,2,3,46,34y8\n",
      "1,2,3,46,34y8\n",
      "1,2,3,46,34y8\n",
      "1,2,3,46,34y8\n",
      "1,2,3,46,34y8\n",
      "1,2,3,46,34y8\n",
      "1,2,3,46,34y8\n",
      "1,2,3,46,34y8\n",
      "1,2,3,46,34y8\n",
      "1,2,3,46,34y8\n",
      "1,2,3,46,34y8\n",
      "1,2,3,46,34y8\n",
      "1,2,3,46,34y8\n",
      "1,2,3,46,34y8\n",
      "1,2,3,46,34y8\n",
      "1,2,3,46,34y8\n",
      "1,2,3,46,34y8\n",
      "1,2,3,46,34y8\n",
      "1,2,3,46,34y8\n",
      "1,2,3,46,Crazycrazy\n",
      "1,2,3,46,Crazycrazy\n",
      "1,2,3,46,Crazycrazy\n",
      "1,2,3,46,Crazycrazy\n",
      "1,2,3,46,Crazycrazy\n",
      "1,2,3,46,Crazycrazy\n",
      "1,2,3,46,Crazycrazy\n",
      "1,2,3,46,Crazycrazy\n",
      "1,2,3,46,Crazycrazy\n",
      "1,2,3,46,Crazycrazy\n",
      "1,2,3,46,Crazycrazy\n",
      "1,2,3,46,Crazycrazy\n",
      "1,2,3,46,Crazycrazy\n",
      "1,2,3,46,Crazycrazy\n",
      "1,2,3,46,Crazycrazy\n",
      "1,2,3,46,Crazycrazy\n",
      "1,2,3,46,Crazycrazy\n",
      "1,2,3,46,Crazycrazy\n",
      "1,2,3,46,Crazycrazy\n",
      "1,2,3,46,Crazycrazy\n",
      "1,2,3,46,Crazycrazy\n",
      "1,2,3,46,Crazycrazy\n",
      "1,2,3,46,Crazycrazy\n",
      "1,2,3,46,Crazycrazy\n",
      "1,2,3,46,Crazycrazy\n",
      "1,2,3,46,Crazycrazy\n",
      "1,2,3,46,Crazycrazy\n",
      "1,2,3,46,Crazycrazy\n",
      "1,2,3,46,Crazycrazy\n",
      "1,2,3,46,Crazycrazy\n",
      "1,2,3,46,Crazycrazy\n",
      "1,2,3,46,Crazycrazy\n",
      "1,2,3,46,Crazycrazy\n",
      "1,2,3,46,Crazycrazy\n",
      "1,2,3,46,Crazycrazy\n",
      "1,2,3,46,Crazycrazy\n",
      "1,2,3,46,Crazycrazy\n",
      "1,2,3,46,Crazycrazy\n",
      "1,2,3,46,Crazycrazy\n",
      "1,2,3,46,Crazycrazy\n",
      "1,2,3,46,Crazycrazy\n",
      "1,2,3,46,Crazycrazy\n",
      "1,2,3,46,Crazycrazy\n",
      "1,2,3,46,Crazycrazy\n",
      "1,2,3,46,Crazycrazy\n",
      "1,2,3,46,Crazycrazy\n",
      "1,2,3,46,Crazycrazy\n",
      "1,2,3,46,Crazycrazy\n",
      "1,2,3,46,Crazycrazy\n",
      "1,2,3,46,Crazycrazy\n",
      "1,2,3,46,Crazycrazy\n",
      "1,2,3,46,Crazycrazy\n",
      "1,2,3,46,Crazycrazy\n",
      "1,2,3,46,Crazycrazy\n",
      "1,2,3,46,Crazycrazy\n",
      "1,2,3,46,Crazycrazy\n",
      "1,2,3,46,Crazycrazy\n",
      "1,2,3,46,Crazycrazy\n",
      "1,2,3,46,Crazycrazy\n",
      "1,2,3,46,Crazycrazy\n",
      "1,2,3,46,Crazycrazy\n",
      "1,2,3,46,Crazycrazy\n",
      "1,2,3,46,Crazycrazy\n",
      "1,2,3,46,Crazycrazy\n",
      "1,2,3,46,Crazycrazy\n",
      "1,2,3,46,Crazycrazy\n",
      "1,2,3,46,Crazycrazy\n",
      "1,2,3,46,Crazycrazy\n",
      "1,2,3,46,Crazycrazy\n",
      "1,2,3,46,Crazycrazy\n",
      "1,2,3,46,Crazycrazy\n",
      "1,2,3,46,Crazycrazy\n",
      "1,2,3,46,Crazycrazy\n",
      "1,2,3,46,Crazycrazy\n",
      "1,2,3,46,Crazycrazy\n",
      "1,2,3,46,Crazycrazy\n",
      "1,2,3,46,Crazycrazy\n",
      "1,2,3,46,Crazycrazy\n",
      "1,2,3,46,Crazycrazy\n",
      "1,2,3,46,Crazycrazy\n",
      "1,2,3,46,Crazycrazy\n",
      "1,2,3,46,Crazycrazy\n",
      "1,2,3,46,Crazycrazy\n",
      "1,2,3,46,Crazycrazy\n",
      "1,2,3,46,Crazycrazy\n",
      "1,2,3,46,Crazycrazy\n",
      "1,2,3,46,Crazycrazy\n",
      "1,2,3,46,Crazycrazy\n",
      "1,2,3,46,Crazycrazy\n",
      "1,2,3,46,Crazycrazy\n",
      "1,2,3,46,Crazycrazy\n",
      "1,2,3,46,Crazycrazy\n",
      "1,2,3,46,Crazycrazy\n",
      "1,2,3,46,Crazycrazy\n",
      "1,2,3,46,Crazycrazy\n",
      "1,2,3,46,Crazycrazy\n",
      "1,2,3,46,Crazycrazy\n",
      "1,2,3,46,Crazycrazy\n",
      "1,2,3,46,Crazycrazy\n",
      "1,2,3,46,Crazycrazy\n",
      "1,2,3,46,Crazycrazy\n",
      "1,2,3,46,Crazycrazy\n",
      "1,2,3,46,Crazycrazy\n",
      "1,2,3,46,Crazycrazy\n",
      "1,2,3,46,Crazycrazy\n",
      "1,2,3,46,Crazycrazy\n",
      "1,2,3,46,Crazycrazy\n",
      "1,2,3,46,Crazycrazy\n",
      "1,2,3,46,Crazycrazy\n",
      "1,2,3,46,Crazycrazy\n",
      "1,2,3,46,Crazycrazy\n",
      "1,2,3,46,Crazycrazy\n",
      "1,2,3,46,Crazycrazy\n",
      "1,2,3,46,Crazycrazy\n",
      "1,2,3,46,Crazycrazy\n",
      "1,2,3,46,Crazycrazy\n",
      "1,2,3,46,Crazycrazy\n",
      "1,2,3,46,Crazycrazy\n",
      "1,2,3,46,Crazycrazy\n",
      "1,2,3,46,Crazycrazy\n",
      "1,2,3,46,Crazycrazy\n",
      "1,2,3,46,Crazycrazy\n",
      "1,2,3,46,Crazycrazy\n",
      "1,2,3,46,Crazycrazy\n",
      "1,2,3,46,Crazycrazy\n",
      "1,2,3,46,Crazycrazy\n",
      "1,2,3,46,Crazycrazy\n",
      "1,2,3,46,Crazycrazy\n",
      "1,2,3,46,Crazycrazy\n",
      "1,2,3,46,Crazycrazy\n",
      "1,2,3,46,Crazycrazy\n",
      "1,2,3,46,Crazycrazy\n",
      "1,2,3,46,Crazycrazy\n",
      "1,2,3,46,Crazycrazy\n",
      "1,2,3,46,Crazycrazy\n",
      "1,2,3,46,Crazycrazy\n",
      "1,2,3,46,Crazycrazy\n",
      "1,2,3,46,Crazycrazy\n",
      "1,2,3,46,Crazycrazy\n",
      "1,2,3,46,Crazycrazy\n",
      "1,2,3,46,Crazycrazy\n",
      "1,2,3,46,Crazycrazy\n",
      "1,2,3,46,Crazycrazy\n",
      "1,2,3,46,Crazycrazy\n",
      "1,2,3,46,Crazycrazy\n",
      "1,2,3,46,Crazycrazy\n",
      "1,2,3,46,Crazycrazy\n",
      "1,2,3,46,Crazycrazy\n",
      "1,2,3,46,Crazycrazy\n",
      "1,2,3,46,Crazycrazy\n",
      "1,2,3,46,Crazycrazy\n",
      "1,2,3,46,Crazycrazy\n",
      "1,2,3,46,Crazycrazy\n",
      "1,2,3,46,Crazycrazy\n",
      "1,2,3,46,Crazycrazy\n",
      "1,2,3,46,Crazycrazy\n",
      "1,2,3,46,Crazycrazy\n",
      "1,2,3,46,Crazycrazy\n",
      "1,2,3,46,Crazycrazy\n",
      "1,2,3,46,Crazycrazy\n",
      "1,2,3,46,Crazycrazy\n",
      "1,2,3,46,Crazycrazy\n",
      "1,2,3,46,Crazycrazy\n",
      "1,2,3,46,Crazycrazy\n",
      "1,2,3,46,Crazycrazy\n",
      "1,2,3,46,Crazycrazy\n",
      "1,2,3,46,Crazycrazy\n",
      "1,2,3,46,Crazycrazy\n",
      "1,2,3,46,Crazycrazy\n",
      "1,2,3,46,Crazycrazy\n",
      "1,2,3,46,Crazycrazy\n",
      "1,2,3,46,Crazycrazy\n",
      "1,2,3,46,Crazycrazy\n",
      "1,2,3,46,Crazycrazy\n",
      "1,2,3,46,Crazycrazy\n",
      "1,2,3,46,Crazycrazy\n",
      "1,2,3,46,Crazycrazy\n",
      "1,2,3,46,Crazycrazy\n",
      "1,2,3,46,Crazycrazy\n",
      "1,2,3,46,Crazycrazy\n",
      "1,2,3,46,Crazycrazy\n",
      "1,2,3,46,Crazycrazy\n",
      "1,2,3,46,Crazycrazy\n",
      "1,2,3,46,Crazycrazy\n",
      "1,2,3,46,Crazycrazy\n",
      "1,2,3,46,Crazycrazy\n",
      "1,2,3,46,Crazycrazy\n",
      "1,2,3,46,Crazycrazy\n",
      "1,2,3,46,Crazycrazy\n",
      "1,2,3,46,Crazycrazy\n",
      "1,2,3,46,Crazycrazy\n",
      "1,2,3,46,Crazycrazy\n",
      "1,2,3,46,Crazycrazy\n",
      "1,2,3,46,Crazycrazy\n",
      "1,2,3,46,Crazycrazy\n",
      "1,2,3,46,Crazycrazy\n",
      "1,2,3,46,Crazycrazy\n",
      "1,2,3,46,Crazycrazy\n",
      "1,2,3,46,Crazycrazy\n",
      "1,2,3,46,Crazycrazy\n",
      "{\"CHANGE\":-1.35,\"PRICE\":174.81,\"TICKER_SYMBOL\":\"BNM\",\"SECTOR\":\"TECHNOLOGY\"}{\"CHANGE\":-7.45,\"PRICE\":183.55,\"TICKER_SYMBOL\":\"TBV\",\"SECTOR\":\"HEALTHCARE\"}{\"CHANGE\":-3.69,\"PRICE\":38.28,\"TICKER_SYMBOL\":\"KFU\",\"SECTOR\":\"ENERGY\"}{\"CHANGE\":0.33,\"PRICE\":218.37,\"TICKER_SYMBOL\":\"QWE\",\"SECTOR\":\"TECHNOLOGY\"}{\"CHANGE\":0.54,\"PRICE\":6.35,\"TICKER_SYMBOL\":\"DEG\",\"SECTOR\":\"ENERGY\"}{\"CHANGE\":0.73,\"PRICE\":16,\"TICKER_SYMBOL\":\"VVS\",\"SECTOR\":\"ENERGY\"}{\"CHANGE\":-0.33,\"PRICE\":118.43,\"TICKER_SYMBOL\":\"IOP\",\"SECTOR\":\"TECHNOLOGY\"}{\"CHANGE\":3.15,\"PRICE\":177.96,\"TICKER_SYMBOL\":\"BNM\",\"SECTOR\":\"TECHNOLOGY\"}{\"CHANGE\":3.6,\"PRICE\":221.97,\"TICKER_SYMBOL\":\"QWE\",\"SECTOR\":\"TECHNOLOGY\"}{\"CHANGE\":1.21,\"PRICE\":67.24,\"TICKER_SYMBOL\":\"TGH\",\"SECTOR\":\"FINANCIAL\"}{\"CHANGE\":-0.01,\"PRICE\":32.79,\"TICKER_SYMBOL\":\"PJN\",\"SECTOR\":\"RETAIL\"}{\"CHANGE\":-7.82,\"PRICE\":197.18,\"TICKER_SYMBOL\":\"HJV\",\"SECTOR\":\"ENERGY\"}{\"CHANGE\":0.28,\"PRICE\":15.38,\"TICKER_SYMBOL\":\"JKL\",\"SECTOR\":\"TECHNOLOGY\"}{\"CHANGE\":1.64,\"PRICE\":31.92,\"TICKER_SYMBOL\":\"PPL\",\"SECTOR\":\"HEALTHCARE\"}{\"CHANGE\":1.03,\"PRICE\":35.88,\"TICKER_SYMBOL\":\"VVY\",\"SECTOR\":\"HEALTHCARE\"}{\"CHANGE\":-7.85,\"PRICE\":536.12,\"TICKER_SYMBOL\":\"UHN\",\"SECTOR\":\"FINANCIAL\"}{\"CHANGE\":-4.63,\"PRICE\":178.92,\"TICKER_SYMBOL\":\"TBV\",\"SECTOR\":\"HEALTHCARE\"}{\"CHANGE\":0.14,\"PRICE\":6.49,\"TICKER_SYMBOL\":\"DEG\",\"SECTOR\":\"ENERGY\"}{\"CHANGE\":-0.16,\"PRICE\":8.58,\"TICKER_SYMBOL\":\"WSB\",\"SECTOR\":\"RETAIL\"}{\"CHANGE\":-1.54,\"PRICE\":43.68,\"TICKER_SYMBOL\":\"JYB\",\"SECTOR\":\"HEALTHCARE\"}{\"CHANGE\":-0.45,\"PRICE\":24.33,\"TICKER_SYMBOL\":\"ABC\",\"SECTOR\":\"RETAIL\"}{\"CHANGE\":-2,\"PRICE\":19.35,\"TICKER_SYMBOL\":\"MMB\",\"SECTOR\":\"ENERGY\"}{\"CHANGE\":2.36,\"PRICE\":120.79,\"TICKER_SYMBOL\":\"IOP\",\"SECTOR\":\"TECHNOLOGY\"}{\"CHANGE\":0.1,\"PRICE\":2.3,\"TICKER_SYMBOL\":\"SED\",\"SECTOR\":\"HEALTHCARE\"}{\"CHANGE\":-0.08,\"PRICE\":4.7,\"TICKER_SYMBOL\":\"HJK\",\"SECTOR\":\"TECHNOLOGY\"}{\"CHANGE\":-10.36,\"PRICE\":168.56,\"TICKER_SYMBOL\":\"TBV\",\"SECTOR\":\"HEALTHCARE\"}{\"CHANGE\":-19.67,\"PRICE\":177.51,\"TICKER_SYMBOL\":\"HJV\",\"SECTOR\":\"ENERGY\"}{\"CHANGE\":0.05,\"PRICE\":8.63,\"TICKER_SYMBOL\":\"WSB\",\"SECTOR\":\"RETAIL\"}{\"CHANGE\":2.02,\"PRICE\":37.9,\"TICKER_SYMBOL\":\"VVY\",\"SECTOR\":\"HEALTHCARE\"}{\"CHANGE\":0.31,\"PRICE\":12.82,\"TICKER_SYMBOL\":\"WAS\",\"SECTOR\":\"RETAIL\"}{\"CHANGE\":-1.54,\"PRICE\":119.25,\"TICKER_SYMBOL\":\"IOP\",\"SECTOR\":\"TECHNOLOGY\"}{\"CHANGE\":-0.5,\"PRICE\":70.01,\"TICKER_SYMBOL\":\"WMT\",\"SECTOR\":\"RETAIL\"}{\"CHANGE\":2.29,\"PRICE\":224.26,\"TICKER_SYMBOL\":\"QWE\",\"SECTOR\":\"TECHNOLOGY\"}{\"CHANGE\":2.12,\"PRICE\":57.69,\"TICKER_SYMBOL\":\"SAC\",\"SECTOR\":\"ENERGY\"}{\"CHANGE\":-0.65,\"PRICE\":52.17,\"TICKER_SYMBOL\":\"CVB\",\"SECTOR\":\"TECHNOLOGY\"}{\"CHANGE\":-6.76,\"PRICE\":94.19,\"TICKER_SYMBOL\":\"NFS\",\"SECTOR\":\"ENERGY\"}{\"CHANGE\":0.13,\"PRICE\":2.43,\"TICKER_SYMBOL\":\"SED\",\"SECTOR\":\"HEALTHCARE\"}{\"CHANGE\":-0.38,\"PRICE\":32.41,\"TICKER_SYMBOL\":\"PJN\",\"SECTOR\":\"RETAIL\"}{\"CHANGE\":-0.26,\"PRICE\":4.83,\"TICKER_SYMBOL\":\"NGC\",\"SECTOR\":\"HEALTHCARE\"}{\"CHANGE\":0.09,\"PRICE\":14.94,\"TICKER_SYMBOL\":\"BAC\",\"SECTOR\":\"FINANCIAL\"}\n"
     ]
    }
   ],
   "source": [
    "for i in text.split('\\n'):\n",
    "    print(i)"
   ]
  },
  {
   "cell_type": "code",
   "execution_count": 77,
   "metadata": {},
   "outputs": [
    {
     "data": {
      "text/plain": [
       "{'ResponseMetadata': {'RequestId': 'GGET73XRH5NTHN9N',\n",
       "  'HostId': 'nrt+Vlg6N8pEgsF64D56j/Q+eysTUq+soSPXWUEXsWosMpAD/5t1koGMiuktrYg/U8tQTRKRc4o=',\n",
       "  'HTTPStatusCode': 200,\n",
       "  'HTTPHeaders': {'x-amz-id-2': 'nrt+Vlg6N8pEgsF64D56j/Q+eysTUq+soSPXWUEXsWosMpAD/5t1koGMiuktrYg/U8tQTRKRc4o=',\n",
       "   'x-amz-request-id': 'GGET73XRH5NTHN9N',\n",
       "   'date': 'Fri, 15 Oct 2021 13:21:16 GMT',\n",
       "   'last-modified': 'Fri, 15 Oct 2021 13:05:32 GMT',\n",
       "   'etag': '\"b95cbdc261908e7682a6fc0686351707\"',\n",
       "   'accept-ranges': 'bytes',\n",
       "   'content-type': 'application/octet-stream',\n",
       "   'server': 'AmazonS3',\n",
       "   'content-length': '13300'},\n",
       "  'RetryAttempts': 0},\n",
       " 'AcceptRanges': 'bytes',\n",
       " 'LastModified': datetime.datetime(2021, 10, 15, 13, 5, 32, tzinfo=tzutc()),\n",
       " 'ContentLength': 13300,\n",
       " 'ETag': '\"b95cbdc261908e7682a6fc0686351707\"',\n",
       " 'ContentType': 'application/octet-stream',\n",
       " 'Metadata': {},\n",
       " 'Body': <botocore.response.StreamingBody at 0x7ff9e7843278>}"
      ]
     },
     "execution_count": 77,
     "metadata": {},
     "output_type": "execute_result"
    }
   ],
   "source": [
    "result"
   ]
  },
  {
   "cell_type": "code",
   "execution_count": 67,
   "metadata": {},
   "outputs": [
    {
     "data": {
      "text/plain": [
       "'34.40285233333333,46.7442812,0.5651963973333333,637.7,6510.0,5016.142857,1BY6WEcLGh8j5v7'"
      ]
     },
     "execution_count": 67,
     "metadata": {},
     "output_type": "execute_result"
    }
   ],
   "source": [
    "feature_string"
   ]
  },
  {
   "cell_type": "code",
   "execution_count": null,
   "metadata": {},
   "outputs": [],
   "source": [
    "# feature_string = feature_string[1:]"
   ]
  },
  {
   "cell_type": "code",
   "execution_count": 48,
   "metadata": {},
   "outputs": [],
   "source": [
    "# Please replace the bucket name with your bucket name where you want to upload the model\n",
    "s3 = boto3.resource(\"s3\")\n",
    "file_name = os.path.join(\"model/RF_RUL_MODEL\", \"rfmodel.tar.gz\")\n",
    "s3.Bucket(\"solarpowerbackend\").upload_file(\"/tmp/rfmodel.tar.gz\", file_name)"
   ]
  },
  {
   "cell_type": "code",
   "execution_count": null,
   "metadata": {},
   "outputs": [],
   "source": []
  },
  {
   "cell_type": "code",
   "execution_count": null,
   "metadata": {},
   "outputs": [],
   "source": [
    "\n",
    "# from mleap.pyspark.spark_support import SimpleSparkSerializer\n",
    "\n",
    "# SimpleSparkSerializer().serializeToBundle(\n",
    "#     rul_rf_model, \"model.zip\", rul_trained_df\n",
    "# )"
   ]
  },
  {
   "cell_type": "code",
   "execution_count": 1,
   "metadata": {},
   "outputs": [
    {
     "name": "stdout",
     "output_type": "stream",
     "text": [
      "{\"input\": [{\"name\": \"AMBIENT_TEMPERATURE\", \"type\": \"double\"}, {\"name\": \"MODULE_TEMPERATURE\", \"type\": \"double\"}, {\"name\": \"IRRADIATION\", \"type\": \"double\"}, {\"name\": \"AC_POWER\", \"type\": \"double\"}, {\"name\": \"DC_POWER\", \"type\": \"double\"}, {\"name\": \"DAILY_YIELD\", \"type\": \"double\"}, {\"name\": \"SOURCE_KEY\", \"type\": \"string\"}], \"output\": {\"name\": \"RF_prediction\", \"type\": \"double\"}}\n"
     ]
    }
   ],
   "source": [
    "import json\n",
    "\n",
    "schema = {\n",
    "    \"input\": [\n",
    "        {\"name\": \"AMBIENT_TEMPERATURE\", \"type\": \"double\"},\n",
    "        {\"name\": \"MODULE_TEMPERATURE\", \"type\": \"double\"},\n",
    "        {\"name\": \"IRRADIATION\", \"type\": \"double\"},\n",
    "        \n",
    "        {\"name\": \"AC_POWER\", \"type\": \"double\"},\n",
    "        {\"name\": \"DC_POWER\", \"type\": \"double\"},\n",
    "        \n",
    "        {\"name\": \"DAILY_YIELD\", \"type\": \"double\"},\n",
    "        {\"name\": \"SOURCE_KEY\", \"type\": \"string\"}\n",
    "        \n",
    "    ],\n",
    "    \"output\": {\"name\": \"RF_prediction\", \"type\": \"double\"},\n",
    "}\n",
    "schema_json = json.dumps(schema)\n",
    "print(schema_json)"
   ]
  },
  {
   "cell_type": "code",
   "execution_count": 2,
   "metadata": {},
   "outputs": [
    {
     "name": "stdout",
     "output_type": "stream",
     "text": [
      "-----!"
     ]
    },
    {
     "data": {
      "text/plain": [
       "<sagemaker.sparkml.model.SparkMLPredictor at 0x7ff9ed903e48>"
      ]
     },
     "execution_count": 2,
     "metadata": {},
     "output_type": "execute_result"
    }
   ],
   "source": [
    "from time import gmtime, strftime\n",
    "import time\n",
    "\n",
    "timestamp_prefix = strftime(\"%Y-%m-%d-%H-%M-%S\", gmtime())\n",
    "\n",
    "import sagemaker\n",
    "from sagemaker import get_execution_role\n",
    "from sagemaker.sparkml.model import SparkMLModel\n",
    "\n",
    "sess = sagemaker.Session()\n",
    "role = get_execution_role()\n",
    "\n",
    "# S3 location of where you uploaded your trained and serialized SparkML model\n",
    "sparkml_data = \"s3://{}/{}/{}\".format(\n",
    "    \"solarpowerbackend\", \"model/RF_RUL_MODEL\", \"rfmodel.tar.gz\"\n",
    ")\n",
    "model_name = \"sparkml-solarpower-\" + timestamp_prefix\n",
    "sparkml_model = SparkMLModel(\n",
    "    model_data=sparkml_data,\n",
    "    role=role,\n",
    "    sagemaker_session=sess,\n",
    "    name=model_name,\n",
    "    # passing the schema defined above by using an environment\n",
    "    # variable that sagemaker-sparkml-serving understands\n",
    "    env={\"SAGEMAKER_SPARKML_SCHEMA\": schema_json},\n",
    ")\n",
    "\n",
    "\n",
    "endpoint_name = \"sparkml-solarpower-rf\" + timestamp_prefix\n",
    "sparkml_model.deploy(\n",
    "    initial_instance_count=1, instance_type=\"ml.c4.xlarge\", endpoint_name=endpoint_name\n",
    ")"
   ]
  },
  {
   "cell_type": "code",
   "execution_count": 3,
   "metadata": {},
   "outputs": [
    {
     "data": {
      "text/plain": [
       "'sparkml-solarpower-rf2021-10-15-11-36-41'"
      ]
     },
     "execution_count": 3,
     "metadata": {},
     "output_type": "execute_result"
    }
   ],
   "source": [
    "endpoint_name"
   ]
  },
  {
   "cell_type": "code",
   "execution_count": 57,
   "metadata": {},
   "outputs": [
    {
     "name": "stderr",
     "output_type": "stream",
     "text": [
      "The class RealTimePredictor has been renamed in sagemaker>=2.\n",
      "See: https://sagemaker.readthedocs.io/en/stable/v2.html for details.\n",
      "The csv_serializer has been renamed in sagemaker>=2.\n",
      "See: https://sagemaker.readthedocs.io/en/stable/v2.html for details.\n"
     ]
    },
    {
     "name": "stdout",
     "output_type": "stream",
     "text": [
      "b'1977.2963658942524'\n"
     ]
    }
   ],
   "source": [
    "from sagemaker.predictor import (\n",
    "    json_serializer,\n",
    "    csv_serializer,\n",
    "    json_deserializer,\n",
    "    RealTimePredictor,\n",
    ")\n",
    "# from sagemaker.content_types import CONTENT_TYPE_CSV\n",
    "\n",
    "payload = feature_string\n",
    "predictor = RealTimePredictor(\n",
    "    endpoint_name=endpoint_name,\n",
    "    sagemaker_session=sess,\n",
    "    serializer=csv_serializer)\n",
    "print(predictor.predict(feature_string))"
   ]
  }
 ],
 "metadata": {
  "application/vnd.databricks.v1+notebook": {
   "dashboards": [],
   "language": "python",
   "notebookMetadata": {
    "pythonIndentUnit": 2
   },
   "notebookName": "SolarPower-RULPreprocessing",
   "notebookOrigID": 4021020246973347,
   "widgets": {}
  },
  "kernelspec": {
   "display_name": "conda_python3",
   "language": "python",
   "name": "conda_python3"
  },
  "language_info": {
   "codemirror_mode": {
    "name": "ipython",
    "version": 3
   },
   "file_extension": ".py",
   "mimetype": "text/x-python",
   "name": "python",
   "nbconvert_exporter": "python",
   "pygments_lexer": "ipython3",
   "version": "3.6.13"
  }
 },
 "nbformat": 4,
 "nbformat_minor": 4
}
