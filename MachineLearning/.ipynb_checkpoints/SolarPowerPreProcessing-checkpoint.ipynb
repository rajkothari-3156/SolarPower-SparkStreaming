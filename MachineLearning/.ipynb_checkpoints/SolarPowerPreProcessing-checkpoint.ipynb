{
 "cells": [
  {
   "cell_type": "code",
   "execution_count": 1,
   "metadata": {
    "application/vnd.databricks.v1+cell": {
     "inputWidgets": {},
     "nuid": "cb975795-10bf-41e6-8a06-9f5ce454bb64",
     "showTitle": false,
     "title": ""
    }
   },
   "outputs": [],
   "source": [
    "from pyspark.sql.functions import to_timestamp,hour,minute,when,col,current_timestamp,date_format,lit,unix_timestamp,expr,abs\n",
    "from pyspark.ml.feature import VectorAssembler\n",
    "from pyspark.ml.regression import LinearRegression\n",
    "from pyspark.ml.tuning import TrainValidationSplit\n",
    "import datetime"
   ]
  },
  {
   "cell_type": "code",
   "execution_count": 2,
   "metadata": {},
   "outputs": [],
   "source": [
    "rawdata_s3 = 's3a://solarpowerbackend/rawdata/'\n",
    "processed_s3 = 's3a://solarpowerbackend/processed/'\n",
    "model_s3 = 's3a://solarpowerbackend/model/'"
   ]
  },
  {
   "cell_type": "code",
   "execution_count": 4,
   "metadata": {},
   "outputs": [
    {
     "data": {
      "text/html": [
       "\n",
       "            <div>\n",
       "                <p><b>SparkSession - in-memory</b></p>\n",
       "                \n",
       "        <div>\n",
       "            <p><b>SparkContext</b></p>\n",
       "\n",
       "            <p><a href=\"http://ip-172-16-70-253.us-east-2.compute.internal:4041\">Spark UI</a></p>\n",
       "\n",
       "            <dl>\n",
       "              <dt>Version</dt>\n",
       "                <dd><code>v2.4.0</code></dd>\n",
       "              <dt>Master</dt>\n",
       "                <dd><code>local[*]</code></dd>\n",
       "              <dt>AppName</dt>\n",
       "                <dd><code>test</code></dd>\n",
       "            </dl>\n",
       "        </div>\n",
       "        \n",
       "            </div>\n",
       "        "
      ],
      "text/plain": [
       "<pyspark.sql.session.SparkSession at 0x7f1d5e4e0eb8>"
      ]
     },
     "execution_count": 4,
     "metadata": {},
     "output_type": "execute_result"
    }
   ],
   "source": [
    "import pyspark # only run after findspark.init()\n",
    "from pyspark.sql import SparkSession\n",
    "# May take awhile locally\n",
    "spark = SparkSession.builder.appName(\"test\").getOrCreate()\n",
    "spark"
   ]
  },
  {
   "cell_type": "code",
   "execution_count": 8,
   "metadata": {},
   "outputs": [],
   "source": [
    "p1_gen_file_location  = f'{rawdata_s3}Plant_1_Generation_Data.csv'\n",
    "p1_weather_file_location = f'{rawdata_s3}Plant_1_Weather_Sensor_Data.csv'\n",
    "p2_gen_file_location = f'{rawdata_s3}Plant_2_Generation_Data.csv'\n",
    "p2_weather_file_location = f'{rawdata_s3}Plant_2_Weather_Sensor_Data.csv'"
   ]
  },
  {
   "cell_type": "code",
   "execution_count": 9,
   "metadata": {},
   "outputs": [],
   "source": [
    "\n",
    "file_type = \"csv\"\n",
    "\n",
    "# CSV options\n",
    "infer_schema = \"true\"\n",
    "first_row_is_header = \"true\"\n",
    "delimiter = \",\"\n",
    "\n"
   ]
  },
  {
   "cell_type": "code",
   "execution_count": 10,
   "metadata": {
    "application/vnd.databricks.v1+cell": {
     "inputWidgets": {},
     "nuid": "ea79ae6e-b066-466e-8f13-1f55954f6b0a",
     "showTitle": false,
     "title": ""
    }
   },
   "outputs": [],
   "source": [
    "\n",
    "# The applied options are for CSV files. For other file types, these will be ignored.\n",
    "p1_weather_df = spark.read.format(file_type) \\\n",
    "  .option(\"inferSchema\", infer_schema) \\\n",
    "  .option(\"header\", first_row_is_header) \\\n",
    "  .option(\"sep\", delimiter) \\\n",
    "  .load(p1_weather_file_location)\n"
   ]
  },
  {
   "cell_type": "code",
   "execution_count": 11,
   "metadata": {
    "application/vnd.databricks.v1+cell": {
     "inputWidgets": {},
     "nuid": "f9374ed7-960e-4d1e-b187-394b2b168e35",
     "showTitle": false,
     "title": ""
    }
   },
   "outputs": [],
   "source": [
    "p1_gen_df = spark.read.format(file_type) \\\n",
    "  .option(\"inferSchema\", infer_schema) \\\n",
    "  .option(\"header\", first_row_is_header) \\\n",
    "  .option(\"sep\", delimiter) \\\n",
    "  .load(p1_gen_file_location)"
   ]
  },
  {
   "cell_type": "code",
   "execution_count": 12,
   "metadata": {
    "application/vnd.databricks.v1+cell": {
     "inputWidgets": {},
     "nuid": "9ef2f3e0-27c5-4cbb-ac9e-edd7b6f7ce1e",
     "showTitle": false,
     "title": ""
    }
   },
   "outputs": [
    {
     "data": {
      "text/plain": [
       "DataFrame[summary: string, DATE_TIME: string, PLANT_ID: string, SOURCE_KEY: string, DC_POWER: string, AC_POWER: string, DAILY_YIELD: string, TOTAL_YIELD: string]"
      ]
     },
     "metadata": {},
     "output_type": "display_data"
    }
   ],
   "source": [
    "display(p1_gen_df.summary())"
   ]
  },
  {
   "cell_type": "code",
   "execution_count": 13,
   "metadata": {
    "application/vnd.databricks.v1+cell": {
     "inputWidgets": {},
     "nuid": "336e9cc1-f61d-4aba-8c35-935f68e72b41",
     "showTitle": false,
     "title": ""
    }
   },
   "outputs": [
    {
     "data": {
      "text/plain": [
       "DataFrame[SOURCE_KEY: string, count: bigint]"
      ]
     },
     "metadata": {},
     "output_type": "display_data"
    }
   ],
   "source": [
    "display(p1_gen_df.groupBy('SOURCE_KEY').count())"
   ]
  },
  {
   "cell_type": "code",
   "execution_count": 14,
   "metadata": {
    "application/vnd.databricks.v1+cell": {
     "inputWidgets": {},
     "nuid": "46129843-709c-457e-82a6-99b457e48995",
     "showTitle": false,
     "title": ""
    }
   },
   "outputs": [
    {
     "data": {
      "text/plain": [
       "DataFrame[DATE_TIME: string, PLANT_ID: int, SOURCE_KEY: string, DC_POWER: double, AC_POWER: double, DAILY_YIELD: double, TOTAL_YIELD: double]"
      ]
     },
     "metadata": {},
     "output_type": "display_data"
    }
   ],
   "source": [
    "display(p1_gen_df)"
   ]
  },
  {
   "cell_type": "code",
   "execution_count": 15,
   "metadata": {
    "application/vnd.databricks.v1+cell": {
     "inputWidgets": {},
     "nuid": "f133ddc9-945c-4a2c-b59d-d42cb0228dde",
     "showTitle": false,
     "title": ""
    }
   },
   "outputs": [],
   "source": [
    "p1_gen_df = p1_gen_df.withColumn('DATE_TIME',to_timestamp(p1_gen_df.DATE_TIME,'dd-MM-yyyy HH:mm'))\n",
    "p1_weather_df = p1_weather_df.withColumn('DATE_TIME',to_timestamp(p1_weather_df.DATE_TIME,'yyyy-MM-dd HH:mm:ss'))"
   ]
  },
  {
   "cell_type": "code",
   "execution_count": 16,
   "metadata": {
    "application/vnd.databricks.v1+cell": {
     "inputWidgets": {},
     "nuid": "a1673109-f180-4060-97ef-1f0234f8c51a",
     "showTitle": false,
     "title": ""
    }
   },
   "outputs": [
    {
     "data": {
      "text/plain": [
       "DataFrame[DATE_TIME: timestamp, PLANT_ID: int, SOURCE_KEY: string, AMBIENT_TEMPERATURE: double, MODULE_TEMPERATURE: double, IRRADIATION: double]"
      ]
     },
     "metadata": {},
     "output_type": "display_data"
    }
   ],
   "source": [
    "display(p1_weather_df)"
   ]
  },
  {
   "cell_type": "code",
   "execution_count": 17,
   "metadata": {
    "application/vnd.databricks.v1+cell": {
     "inputWidgets": {},
     "nuid": "d9721bcb-ca8a-4591-a0ea-2c3b69b1f428",
     "showTitle": false,
     "title": ""
    }
   },
   "outputs": [],
   "source": [
    "p1_raw_df = p1_weather_df.select('DATE_TIME','AMBIENT_TEMPERATURE','MODULE_TEMPERATURE','IRRADIATION').join(p1_gen_df, on = 'DATE_TIME',how = 'inner')\n",
    "p1_raw_df = p1_raw_df.withColumn('TIME',date_format('DATE_TIME','HH:mm:ss'))\n",
    "\n",
    "p1_df = p1_raw_df.filter(col('TIME').between('06:00:00','18:15:00'))\n",
    "p1_plantoff_df = p1_raw_df.filter((col('TIME')>=lit('18:30:00')) | (col('TIME')<=lit('05:45:00')))"
   ]
  },
  {
   "cell_type": "code",
   "execution_count": 18,
   "metadata": {
    "application/vnd.databricks.v1+cell": {
     "inputWidgets": {},
     "nuid": "c2fae168-6bde-44cf-8a08-dc2b169177f9",
     "showTitle": false,
     "title": ""
    }
   },
   "outputs": [
    {
     "data": {
      "text/plain": [
       "DataFrame[DATE_TIME: timestamp, AMBIENT_TEMPERATURE: double, MODULE_TEMPERATURE: double, IRRADIATION: double, PLANT_ID: int, SOURCE_KEY: string, DC_POWER: double, AC_POWER: double, DAILY_YIELD: double, TOTAL_YIELD: double, TIME: string]"
      ]
     },
     "metadata": {},
     "output_type": "display_data"
    }
   ],
   "source": [
    "display(p1_df)"
   ]
  },
  {
   "cell_type": "code",
   "execution_count": 19,
   "metadata": {
    "application/vnd.databricks.v1+cell": {
     "inputWidgets": {},
     "nuid": "1e56fca3-2504-4a86-9186-b742400b40ea",
     "showTitle": false,
     "title": ""
    }
   },
   "outputs": [],
   "source": [
    "p1_train_df ,p1_test_df= p1_df.randomSplit([0.8,0.2])"
   ]
  },
  {
   "cell_type": "code",
   "execution_count": 20,
   "metadata": {
    "application/vnd.databricks.v1+cell": {
     "inputWidgets": {},
     "nuid": "9c700aba-9a9e-406e-b0c3-a9cccf903d74",
     "showTitle": false,
     "title": ""
    }
   },
   "outputs": [
    {
     "data": {
      "text/plain": [
       "DataFrame[DATE_TIME: timestamp, AMBIENT_TEMPERATURE: double, MODULE_TEMPERATURE: double, IRRADIATION: double, PLANT_ID: int, SOURCE_KEY: string, DC_POWER: double, AC_POWER: double, DAILY_YIELD: double, TOTAL_YIELD: double, TIME: string]"
      ]
     },
     "metadata": {},
     "output_type": "display_data"
    }
   ],
   "source": [
    "display(p1_df)"
   ]
  },
  {
   "cell_type": "code",
   "execution_count": 21,
   "metadata": {
    "application/vnd.databricks.v1+cell": {
     "inputWidgets": {},
     "nuid": "85a96d24-c33f-4c2c-abfa-e285d8945716",
     "showTitle": false,
     "title": ""
    }
   },
   "outputs": [
    {
     "data": {
      "text/plain": [
       "DataFrame[DATE_TIME: timestamp, AMBIENT_TEMPERATURE: double, MODULE_TEMPERATURE: double, IRRADIATION: double, PLANT_ID: int, SOURCE_KEY: string, DC_POWER: double, AC_POWER: double, DAILY_YIELD: double, TOTAL_YIELD: double, TIME: string]"
      ]
     },
     "metadata": {},
     "output_type": "display_data"
    }
   ],
   "source": [
    "display(p1_df.filter(col('DC_POWER')==0))"
   ]
  },
  {
   "cell_type": "code",
   "execution_count": 22,
   "metadata": {
    "application/vnd.databricks.v1+cell": {
     "inputWidgets": {},
     "nuid": "7997f150-e792-4a15-bd0c-057a41b48e76",
     "showTitle": false,
     "title": ""
    }
   },
   "outputs": [
    {
     "data": {
      "text/plain": [
       "DataFrame[DATE_TIME: timestamp, AMBIENT_TEMPERATURE: double, MODULE_TEMPERATURE: double, IRRADIATION: double, PLANT_ID: int, SOURCE_KEY: string, DC_POWER: double, AC_POWER: double, DAILY_YIELD: double, TOTAL_YIELD: double, TIME: string]"
      ]
     },
     "metadata": {},
     "output_type": "display_data"
    }
   ],
   "source": [
    "display(p1_df)"
   ]
  },
  {
   "cell_type": "code",
   "execution_count": 23,
   "metadata": {
    "application/vnd.databricks.v1+cell": {
     "inputWidgets": {},
     "nuid": "e440f4bd-9db6-40f6-875c-5bafd1afa208",
     "showTitle": false,
     "title": ""
    }
   },
   "outputs": [],
   "source": [
    "va = VectorAssembler().setInputCols(['IRRADIATION','AMBIENT_TEMPERATURE']).setOutputCol('features')\n",
    "p1_train_df = va.transform(p1_train_df)"
   ]
  },
  {
   "cell_type": "code",
   "execution_count": 24,
   "metadata": {
    "application/vnd.databricks.v1+cell": {
     "inputWidgets": {},
     "nuid": "97894809-de9b-4119-9a63-8dac1963b16c",
     "showTitle": false,
     "title": ""
    }
   },
   "outputs": [
    {
     "data": {
      "text/plain": [
       "DataFrame[DATE_TIME: timestamp, AMBIENT_TEMPERATURE: double, MODULE_TEMPERATURE: double, IRRADIATION: double, PLANT_ID: int, SOURCE_KEY: string, DC_POWER: double, label: double, DAILY_YIELD: double, TOTAL_YIELD: double, TIME: string, features: vector]"
      ]
     },
     "metadata": {},
     "output_type": "display_data"
    }
   ],
   "source": [
    "p1_train_df = p1_train_df.withColumnRenamed('AC_POWER','label')\n",
    "display(p1_train_df)"
   ]
  },
  {
   "cell_type": "code",
   "execution_count": 25,
   "metadata": {
    "application/vnd.databricks.v1+cell": {
     "inputWidgets": {},
     "nuid": "0143de06-ce89-4c5f-b1f6-ba473ad858d0",
     "showTitle": false,
     "title": ""
    }
   },
   "outputs": [],
   "source": [
    "lr  = LinearRegression().setFeaturesCol('features').setLabelCol('label')"
   ]
  },
  {
   "cell_type": "code",
   "execution_count": 26,
   "metadata": {
    "application/vnd.databricks.v1+cell": {
     "inputWidgets": {},
     "nuid": "30755b63-5cd3-4493-915f-eda2e875f08f",
     "showTitle": false,
     "title": ""
    }
   },
   "outputs": [],
   "source": [
    "lr_model = lr.fit(p1_train_df)"
   ]
  },
  {
   "cell_type": "code",
   "execution_count": 27,
   "metadata": {
    "application/vnd.databricks.v1+cell": {
     "inputWidgets": {},
     "nuid": "161a22a8-5cd8-4f1b-bbe6-9467b1368035",
     "showTitle": false,
     "title": ""
    }
   },
   "outputs": [
    {
     "data": {
      "text/plain": [
       "44.789351035597"
      ]
     },
     "execution_count": 27,
     "metadata": {},
     "output_type": "execute_result"
    }
   ],
   "source": [
    "lr_model.summary.meanAbsoluteError"
   ]
  },
  {
   "cell_type": "code",
   "execution_count": 29,
   "metadata": {
    "application/vnd.databricks.v1+cell": {
     "inputWidgets": {},
     "nuid": "11908ef1-91b9-4868-bd59-a9c8ea199be3",
     "showTitle": false,
     "title": ""
    }
   },
   "outputs": [],
   "source": [
    "# lr_model.setPredictionCol('ACPower_Predicted')"
   ]
  },
  {
   "cell_type": "code",
   "execution_count": 46,
   "metadata": {
    "application/vnd.databricks.v1+cell": {
     "inputWidgets": {},
     "nuid": "42f5d40c-61d1-4082-aafc-3be262cadaa8",
     "showTitle": false,
     "title": ""
    }
   },
   "outputs": [],
   "source": [
    "lr_model.write().overwrite().save(f'{model_s3}LR_FaultDetectionModel')"
   ]
  },
  {
   "cell_type": "code",
   "execution_count": 32,
   "metadata": {},
   "outputs": [
    {
     "data": {
      "text/plain": [
       "DataFrame[DATE_TIME: timestamp, AMBIENT_TEMPERATURE: double, MODULE_TEMPERATURE: double, IRRADIATION: double, PLANT_ID: int, SOURCE_KEY: string, DC_POWER: double, label: double, DAILY_YIELD: double, TOTAL_YIELD: double, TIME: string, features: vector, prediction: double]"
      ]
     },
     "execution_count": 32,
     "metadata": {},
     "output_type": "execute_result"
    }
   ],
   "source": [
    "pred_p1_train_df"
   ]
  },
  {
   "cell_type": "code",
   "execution_count": 33,
   "metadata": {
    "application/vnd.databricks.v1+cell": {
     "inputWidgets": {},
     "nuid": "3bf9656a-c2b1-4ab0-a856-f10b9a249b89",
     "showTitle": false,
     "title": ""
    }
   },
   "outputs": [],
   "source": [
    "pred_p1_train_df = lr_model.transform(p1_train_df)\n",
    "pred_p1_train_df = pred_p1_train_df.withColumn('residuals',col('prediction') - col('label') )\n",
    "train_fault_instances_df =  pred_p1_train_df.filter(col('residuals')>=pred_p1_train_df.stat.approxQuantile('residuals',[0.995],0.00)[0])"
   ]
  },
  {
   "cell_type": "code",
   "execution_count": 34,
   "metadata": {
    "application/vnd.databricks.v1+cell": {
     "inputWidgets": {},
     "nuid": "88f7b9a1-6f17-49df-81b5-86247b77d857",
     "showTitle": false,
     "title": ""
    }
   },
   "outputs": [
    {
     "data": {
      "text/plain": [
       "DataFrame[DATE_TIME: timestamp, AMBIENT_TEMPERATURE: double, MODULE_TEMPERATURE: double, IRRADIATION: double, PLANT_ID: int, SOURCE_KEY: string, DC_POWER: double, label: double, DAILY_YIELD: double, TOTAL_YIELD: double, TIME: string, features: vector, prediction: double, residuals: double]"
      ]
     },
     "metadata": {},
     "output_type": "display_data"
    }
   ],
   "source": [
    "display(pred_p1_train_df)"
   ]
  },
  {
   "cell_type": "code",
   "execution_count": 35,
   "metadata": {
    "application/vnd.databricks.v1+cell": {
     "inputWidgets": {},
     "nuid": "6e2532e4-2bae-4f32-aef2-028c257c19d0",
     "showTitle": false,
     "title": ""
    }
   },
   "outputs": [],
   "source": [
    "outlier_residual_limit = pred_p1_train_df.stat.approxQuantile('residuals',[0.95],0.05)"
   ]
  },
  {
   "cell_type": "code",
   "execution_count": 36,
   "metadata": {
    "application/vnd.databricks.v1+cell": {
     "inputWidgets": {},
     "nuid": "e2054302-6331-4696-9d56-53b5f764741f",
     "showTitle": false,
     "title": ""
    }
   },
   "outputs": [
    {
     "data": {
      "text/plain": [
       "DataFrame[DATE_TIME: timestamp, AMBIENT_TEMPERATURE: double, MODULE_TEMPERATURE: double, IRRADIATION: double, PLANT_ID: int, SOURCE_KEY: string, DC_POWER: double, AC_POWER: double, DAILY_YIELD: double, TOTAL_YIELD: double, TIME: string]"
      ]
     },
     "metadata": {},
     "output_type": "display_data"
    }
   ],
   "source": [
    "display(p1_test_df.filter(col('DC_POWER')!=0))"
   ]
  },
  {
   "cell_type": "code",
   "execution_count": 37,
   "metadata": {
    "application/vnd.databricks.v1+cell": {
     "inputWidgets": {},
     "nuid": "1eefd1fb-ce13-42ed-8dae-8e62d8b8d68c",
     "showTitle": false,
     "title": ""
    }
   },
   "outputs": [],
   "source": [
    "p1_test_df = va.transform(p1_test_df)\n",
    "p1_test_df = p1_test_df.withColumnRenamed('AC_POWER','label')\n"
   ]
  },
  {
   "cell_type": "code",
   "execution_count": 40,
   "metadata": {
    "application/vnd.databricks.v1+cell": {
     "inputWidgets": {},
     "nuid": "107ed92c-d1da-420f-b2cb-5f999ea4cb29",
     "showTitle": false,
     "title": ""
    }
   },
   "outputs": [],
   "source": [
    "\n",
    "pred_p1_test_df = lr_model.transform(p1_test_df)\n",
    "pred_p1_test_df = pred_p1_test_df.withColumn('residuals',col('prediction')-col('label'))\n",
    "fault_instances_df=  pred_p1_test_df.filter(col('residuals')>=pred_p1_test_df.stat.approxQuantile('residuals',[0.995],0.05)[0])"
   ]
  },
  {
   "cell_type": "code",
   "execution_count": 41,
   "metadata": {
    "application/vnd.databricks.v1+cell": {
     "inputWidgets": {},
     "nuid": "c4050fe0-f6d2-49f3-88b3-c24d270b5b69",
     "showTitle": false,
     "title": ""
    }
   },
   "outputs": [],
   "source": [
    "pred_p1_df = pred_p1_train_df.union(pred_p1_test_df)"
   ]
  },
  {
   "cell_type": "code",
   "execution_count": 42,
   "metadata": {
    "application/vnd.databricks.v1+cell": {
     "inputWidgets": {},
     "nuid": "d3394603-b390-423a-8d61-a1247178bf90",
     "showTitle": false,
     "title": ""
    }
   },
   "outputs": [],
   "source": [
    "p1_plantoff_df = va.transform(p1_plantoff_df).withColumnRenamed('AC_POWER','label').withColumn('ACPower_Predicted',lit(0)).withColumn('residuals',lit(0)).withColumn('Fault_Flag',lit(0))"
   ]
  },
  {
   "cell_type": "code",
   "execution_count": 44,
   "metadata": {
    "application/vnd.databricks.v1+cell": {
     "inputWidgets": {},
     "nuid": "75cf1106-288c-4e53-bbf7-bf6ad173a734",
     "showTitle": false,
     "title": ""
    }
   },
   "outputs": [],
   "source": [
    "pred_p1_df = pred_p1_df.withColumn('Fault_Flag',expr(f\"case when abs(residuals) > {pred_p1_df.stat.approxQuantile(('residuals'),[0.995],0.00)[0]} then 1 else 0 end \"))\n",
    "p1_rul_raw_df = pred_p1_df.union(p1_plantoff_df)\n",
    "p1_rul_raw_df=  p1_rul_raw_df.select('DATE_TIME','AMBIENT_TEMPERATURE','MODULE_TEMPERATURE','IRRADIATION','PLANT_ID','SOURCE_KEY','DC_POWER','label','DAILY_YIELD','TOTAL_YIELD','Fault_Flag')\n",
    "p1_rul_raw_df = p1_rul_raw_df.withColumnRenamed('label','AC_POWER')\n",
    "p1_rul_raw_df.write.mode('overwrite').option('overwriteSchema','true').save(f'{processed_s3}rul_dataset')"
   ]
  }
 ],
 "metadata": {
  "application/vnd.databricks.v1+notebook": {
   "dashboards": [],
   "language": "python",
   "notebookMetadata": {
    "pythonIndentUnit": 2
   },
   "notebookName": "SolarPowerPreProcessing",
   "notebookOrigID": 3924674424667513,
   "widgets": {}
  },
  "kernelspec": {
   "display_name": "conda_python3",
   "language": "python",
   "name": "conda_python3"
  },
  "language_info": {
   "codemirror_mode": {
    "name": "ipython",
    "version": 3
   },
   "file_extension": ".py",
   "mimetype": "text/x-python",
   "name": "python",
   "nbconvert_exporter": "python",
   "pygments_lexer": "ipython3",
   "version": "3.6.13"
  }
 },
 "nbformat": 4,
 "nbformat_minor": 4
}
