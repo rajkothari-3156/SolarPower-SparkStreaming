{
 "cells": [
  {
   "cell_type": "code",
   "execution_count": 1,
   "metadata": {
    "application/vnd.databricks.v1+cell": {
     "inputWidgets": {},
     "nuid": "eb8e67b8-00f1-4312-ba94-1d634ffe6491",
     "showTitle": false,
     "title": ""
    }
   },
   "outputs": [],
   "source": [
    "from pyspark.sql.functions import to_timestamp,hour,minute,when,col,current_timestamp,date_format,lit,unix_timestamp,expr,abs,to_date,rank,datediff\n",
    "from pyspark.sql.window import Window\n",
    "from pyspark.ml import Pipeline\n",
    "from pyspark.ml.feature import OneHotEncoder,StringIndexer,VectorAssembler\n",
    "from pyspark.ml.tuning import ParamGridBuilder, CrossValidator,TrainValidationSplit\n",
    "from pyspark.ml.regression import LinearRegression,RandomForestRegressor\n",
    "from pyspark.ml.evaluation import RegressionEvaluator\n",
    "import os"
   ]
  },
  {
   "cell_type": "code",
   "execution_count": 2,
   "metadata": {},
   "outputs": [],
   "source": [
    "from pyspark import SparkConf\n",
    "from pyspark.sql import SparkSession\n",
    "import sagemaker_pyspark\n",
    "import botocore.session\n",
    "\n",
    "session = botocore.session.get_session()\n",
    "# credentials = session.get_credentials()\n",
    "\n",
    "conf = (SparkConf().set(\"spark.driver.extraClassPath\", \":\".join(sagemaker_pyspark.classpath_jars())))"
   ]
  },
  {
   "cell_type": "code",
   "execution_count": 3,
   "metadata": {},
   "outputs": [
    {
     "data": {
      "text/html": [
       "\n",
       "            <div>\n",
       "                <p><b>SparkSession - in-memory</b></p>\n",
       "                \n",
       "        <div>\n",
       "            <p><b>SparkContext</b></p>\n",
       "\n",
       "            <p><a href=\"http://ip-172-16-82-121.us-east-2.compute.internal:4041\">Spark UI</a></p>\n",
       "\n",
       "            <dl>\n",
       "              <dt>Version</dt>\n",
       "                <dd><code>v2.4.0</code></dd>\n",
       "              <dt>Master</dt>\n",
       "                <dd><code>local[*]</code></dd>\n",
       "              <dt>AppName</dt>\n",
       "                <dd><code>test</code></dd>\n",
       "            </dl>\n",
       "        </div>\n",
       "        \n",
       "            </div>\n",
       "        "
      ],
      "text/plain": [
       "<pyspark.sql.session.SparkSession at 0x7f3dbbfe5a58>"
      ]
     },
     "execution_count": 3,
     "metadata": {},
     "output_type": "execute_result"
    }
   ],
   "source": [
    "import pyspark # only run after findspark.init()\n",
    "from pyspark.sql import SparkSession\n",
    "# May take awhile locally\n",
    "spark = SparkSession.builder.config(conf = conf).appName(\"test\").getOrCreate()\n",
    "spark"
   ]
  },
  {
   "cell_type": "code",
   "execution_count": 4,
   "metadata": {
    "application/vnd.databricks.v1+cell": {
     "inputWidgets": {},
     "nuid": "5f38fae8-be38-4acf-a96a-e64301a9c3c4",
     "showTitle": false,
     "title": ""
    }
   },
   "outputs": [],
   "source": [
    "rawdata_s3 = 's3a://solarpowerbackend/rawdata/'\n",
    "processed_s3 = 's3a://solarpowerbackend/processed/'\n",
    "model_s3 = 's3a://solarpowerbackend/model/'"
   ]
  },
  {
   "cell_type": "code",
   "execution_count": null,
   "metadata": {},
   "outputs": [],
   "source": []
  },
  {
   "cell_type": "code",
   "execution_count": 5,
   "metadata": {
    "application/vnd.databricks.v1+cell": {
     "inputWidgets": {},
     "nuid": "2341568f-48c4-40c4-8978-a7492f09a1ed",
     "showTitle": false,
     "title": ""
    }
   },
   "outputs": [],
   "source": [
    "raw_df = spark.read.parquet(f'{processed_s3}rul_dataset')\n",
    "raw_df = raw_df.withColumn('TIME',date_format(col('DATE_TIME'),'HH:mm:ss'))\n",
    "raw_df = raw_df.filter(col('TIME').between('06:00:00','18:15:00'))"
   ]
  },
  {
   "cell_type": "code",
   "execution_count": 6,
   "metadata": {
    "application/vnd.databricks.v1+cell": {
     "inputWidgets": {},
     "nuid": "66a93bfb-3428-4cb8-bde6-2d4b908a335c",
     "showTitle": false,
     "title": ""
    }
   },
   "outputs": [],
   "source": [
    "raw_df = raw_df.withColumn('DATE',to_date(col('DATE_TIME')))"
   ]
  },
  {
   "cell_type": "code",
   "execution_count": 7,
   "metadata": {
    "application/vnd.databricks.v1+cell": {
     "inputWidgets": {},
     "nuid": "e28d1d2f-aa0c-46e6-80a7-88bf4f264a5c",
     "showTitle": false,
     "title": ""
    }
   },
   "outputs": [],
   "source": [
    "only_fault_df = raw_df.select('DATE_TIME','FAULT_FLAG','SOURCE_KEY','DATE').filter(col('Fault_Flag')==1)"
   ]
  },
  {
   "cell_type": "code",
   "execution_count": 8,
   "metadata": {
    "application/vnd.databricks.v1+cell": {
     "inputWidgets": {},
     "nuid": "6308a28e-e0f0-4fad-80b9-6be593b48360",
     "showTitle": false,
     "title": ""
    }
   },
   "outputs": [
    {
     "data": {
      "text/plain": [
       "DataFrame[DATE_TIME: timestamp, FAULT_FLAG: int, SOURCE_KEY: string, DATE: date]"
      ]
     },
     "metadata": {},
     "output_type": "display_data"
    }
   ],
   "source": [
    "display(only_fault_df)"
   ]
  },
  {
   "cell_type": "code",
   "execution_count": 9,
   "metadata": {
    "application/vnd.databricks.v1+cell": {
     "inputWidgets": {},
     "nuid": "f677a8db-07e5-4e47-800f-f25b1969fd6f",
     "showTitle": false,
     "title": ""
    }
   },
   "outputs": [],
   "source": [
    "# rank_window = Window.partitionBy(only_fault_df['SOURCE_KEY'],only_fault_df['DATE']).orderBy(only_fault_df['DATE_TIME'])\n",
    "# fault_rank_on_day = rank().over(rank_window)"
   ]
  },
  {
   "cell_type": "code",
   "execution_count": 10,
   "metadata": {
    "application/vnd.databricks.v1+cell": {
     "inputWidgets": {},
     "nuid": "69112abb-7687-4050-98d3-2d50017de492",
     "showTitle": false,
     "title": ""
    }
   },
   "outputs": [],
   "source": [
    "fault_rank_df = only_fault_df.select(col('SOURCE_KEY').alias('FAULT_SOURCE_KEY'),col('DATE_TIME').alias('FAULT_DATE_TIME'))"
   ]
  },
  {
   "cell_type": "code",
   "execution_count": 11,
   "metadata": {
    "application/vnd.databricks.v1+cell": {
     "inputWidgets": {},
     "nuid": "cca49772-5931-49ad-923d-d50624fdb835",
     "showTitle": false,
     "title": ""
    }
   },
   "outputs": [],
   "source": [
    "rul_oncondition = (fault_rank_df['FAULT_DATE_TIME']>=raw_df['DATE_TIME']) & (fault_rank_df['FAULT_SOURCE_KEY'] == raw_df['SOURCE_KEY'])"
   ]
  },
  {
   "cell_type": "code",
   "execution_count": 12,
   "metadata": {
    "application/vnd.databricks.v1+cell": {
     "inputWidgets": {},
     "nuid": "6f9ea89f-3eef-454b-a102-33f9e70440f9",
     "showTitle": false,
     "title": ""
    }
   },
   "outputs": [],
   "source": [
    "rul_df = fault_rank_df.join(raw_df,on = rul_oncondition,how = 'inner')"
   ]
  },
  {
   "cell_type": "code",
   "execution_count": 13,
   "metadata": {
    "application/vnd.databricks.v1+cell": {
     "inputWidgets": {},
     "nuid": "52e091a5-adb5-4be0-ad81-d71e5a52044c",
     "showTitle": false,
     "title": ""
    }
   },
   "outputs": [
    {
     "data": {
      "text/plain": [
       "DataFrame[FAULT_SOURCE_KEY: string, FAULT_DATE_TIME: timestamp, DATE_TIME: timestamp, AMBIENT_TEMPERATURE: double, MODULE_TEMPERATURE: double, IRRADIATION: double, PLANT_ID: int, SOURCE_KEY: string, DC_POWER: double, AC_POWER: double, DAILY_YIELD: double, TOTAL_YIELD: double, Fault_Flag: int, TIME: string, DATE: date]"
      ]
     },
     "metadata": {},
     "output_type": "display_data"
    }
   ],
   "source": [
    "display(rul_df)"
   ]
  },
  {
   "cell_type": "code",
   "execution_count": 14,
   "metadata": {
    "application/vnd.databricks.v1+cell": {
     "inputWidgets": {},
     "nuid": "efc82229-5922-47c6-ac38-030f825e0dc2",
     "showTitle": false,
     "title": ""
    }
   },
   "outputs": [],
   "source": [
    "rul_df = rul_df.withColumn('RUL',(col('FAULT_DATE_TIME').cast('long') - col('DATE_TIME').cast('long'))/60 - datediff(col('FAULT_DATE_TIME'),col('DATE_TIME'))*47*15)"
   ]
  },
  {
   "cell_type": "code",
   "execution_count": 15,
   "metadata": {
    "application/vnd.databricks.v1+cell": {
     "inputWidgets": {},
     "nuid": "2c7430d3-3c64-410a-a8ac-e10c5a956137",
     "showTitle": false,
     "title": ""
    }
   },
   "outputs": [
    {
     "data": {
      "text/plain": [
       "DataFrame[FAULT_SOURCE_KEY: string, FAULT_DATE_TIME: timestamp, DATE_TIME: timestamp, AMBIENT_TEMPERATURE: double, MODULE_TEMPERATURE: double, IRRADIATION: double, PLANT_ID: int, SOURCE_KEY: string, DC_POWER: double, AC_POWER: double, DAILY_YIELD: double, TOTAL_YIELD: double, Fault_Flag: int, TIME: string, DATE: date, RUL: double]"
      ]
     },
     "metadata": {},
     "output_type": "display_data"
    }
   ],
   "source": [
    "display(rul_df)"
   ]
  },
  {
   "cell_type": "code",
   "execution_count": 16,
   "metadata": {
    "application/vnd.databricks.v1+cell": {
     "inputWidgets": {},
     "nuid": "ea6df919-d4dc-476f-ab3c-8e5853b1140c",
     "showTitle": false,
     "title": ""
    }
   },
   "outputs": [],
   "source": [
    "rul_df = rul_df.groupby('SOURCE_KEY','DATE_TIME','AMBIENT_TEMPERATURE','MODULE_TEMPERATURE','IRRADIATION','PLANT_ID','AC_POWER','DC_POWER','DAILY_YIELD','TOTAL_YIELD').min('RUL')\n",
    "rul_df = rul_df.withColumnRenamed('min(RUL)','RUL')\n",
    "# rul_df = rul_df.filter(col('RUL')>=1440)"
   ]
  },
  {
   "cell_type": "code",
   "execution_count": 17,
   "metadata": {
    "application/vnd.databricks.v1+cell": {
     "inputWidgets": {},
     "nuid": "97012c12-abb0-4c13-aa81-378d9b819e51",
     "showTitle": false,
     "title": ""
    }
   },
   "outputs": [],
   "source": [
    "rul_df = rul_df.withColumn('AC_POWER',col('AC_POWER') - col('AC_POWER')/(col('RUL')+1)*2)"
   ]
  },
  {
   "cell_type": "code",
   "execution_count": 18,
   "metadata": {
    "application/vnd.databricks.v1+cell": {
     "inputWidgets": {},
     "nuid": "09dcc94e-2662-43b8-9f42-54de6798ec0b",
     "showTitle": false,
     "title": ""
    }
   },
   "outputs": [],
   "source": [
    "rul_df = rul_df.withColumn('ACDC',col('AC_POWER')/(col('DC_POWER')+1))"
   ]
  },
  {
   "cell_type": "code",
   "execution_count": 19,
   "metadata": {
    "application/vnd.databricks.v1+cell": {
     "inputWidgets": {},
     "nuid": "4c71d26a-617c-478e-aba3-e4d4b4a53acb",
     "showTitle": false,
     "title": ""
    }
   },
   "outputs": [
    {
     "data": {
      "text/plain": [
       "DataFrame[SOURCE_KEY: string, DATE_TIME: timestamp, AMBIENT_TEMPERATURE: double, MODULE_TEMPERATURE: double, IRRADIATION: double, PLANT_ID: int, AC_POWER: double, DC_POWER: double, DAILY_YIELD: double, TOTAL_YIELD: double, RUL: double, ACDC: double]"
      ]
     },
     "metadata": {},
     "output_type": "display_data"
    }
   ],
   "source": [
    "display(rul_df.sort(['SOURCE_KEY','DATE_TIME']).filter(col('RUL')<100))"
   ]
  },
  {
   "cell_type": "code",
   "execution_count": 20,
   "metadata": {
    "application/vnd.databricks.v1+cell": {
     "inputWidgets": {},
     "nuid": "24522346-3201-477d-b6e3-219e1b976ef3",
     "showTitle": false,
     "title": ""
    }
   },
   "outputs": [],
   "source": [
    "\n",
    "str_ind = StringIndexer().setInputCol('SOURCE_KEY').setOutputCol('SOURCE_KEY_NUM')\n",
    "ohe = OneHotEncoder().setInputCol('SOURCE_KEY_NUM').setOutputCol('encoded_Source_Key')"
   ]
  },
  {
   "cell_type": "code",
   "execution_count": 21,
   "metadata": {
    "application/vnd.databricks.v1+cell": {
     "inputWidgets": {},
     "nuid": "ad63a650-2eeb-4d49-988c-2f4a5413b92b",
     "showTitle": false,
     "title": ""
    }
   },
   "outputs": [],
   "source": [
    "index_stages = [str_ind,ohe]\n",
    "ohe_pipeline = Pipeline(stages = index_stages)\n",
    "rul_indexed_df = ohe_pipeline.fit(rul_df).transform(rul_df)"
   ]
  },
  {
   "cell_type": "code",
   "execution_count": 22,
   "metadata": {
    "application/vnd.databricks.v1+cell": {
     "inputWidgets": {},
     "nuid": "afd6288a-4d84-4825-a6ca-b8cac45cf6f5",
     "showTitle": false,
     "title": ""
    }
   },
   "outputs": [],
   "source": [
    "independent_features = ['AMBIENT_TEMPERATURE','MODULE_TEMPERATURE','IRRADIATION','AC_POWER','ACDC','DC_POWER','DAILY_YIELD','encoded_Source_Key']\n",
    "model_input_vector = VectorAssembler().setInputCols(independent_features).setOutputCol('features')\n",
    "\n",
    "rul_indexed_df = rul_indexed_df.withColumnRenamed('RUL','label')"
   ]
  },
  {
   "cell_type": "code",
   "execution_count": 23,
   "metadata": {
    "application/vnd.databricks.v1+cell": {
     "inputWidgets": {},
     "nuid": "dad6e110-2740-4421-b35c-55f0a3956f2d",
     "showTitle": false,
     "title": ""
    }
   },
   "outputs": [],
   "source": [
    "rul_indexed_train_df,rul_indexed_test_df = rul_indexed_df.randomSplit([0.8,0.2])"
   ]
  },
  {
   "cell_type": "code",
   "execution_count": 24,
   "metadata": {
    "application/vnd.databricks.v1+cell": {
     "inputWidgets": {},
     "nuid": "55606f13-8f2f-45a5-a407-11dc989fc602",
     "showTitle": false,
     "title": ""
    }
   },
   "outputs": [
    {
     "data": {
      "text/plain": [
       "RandomForestRegressor_b67b9cd06a1b"
      ]
     },
     "execution_count": 24,
     "metadata": {},
     "output_type": "execute_result"
    }
   ],
   "source": [
    "lr_model = LinearRegression().setFeaturesCol('features').setLabelCol('label')\n",
    "lr_model.setPredictionCol('LR_prediction')\n",
    "rf_model = RandomForestRegressor().setFeaturesCol('features').setLabelCol('label')\n",
    "rf_model.setPredictionCol('RF_prediction')\n"
   ]
  },
  {
   "cell_type": "code",
   "execution_count": 25,
   "metadata": {
    "application/vnd.databricks.v1+cell": {
     "inputWidgets": {},
     "nuid": "ca7c7918-ef15-432e-a720-2854dd8fa0ac",
     "showTitle": false,
     "title": ""
    }
   },
   "outputs": [],
   "source": [
    "model_training_stages  = [model_input_vector]\n",
    "rul_pipeline = Pipeline(stages=model_training_stages)\n",
    "rul_trained_df = rul_pipeline.fit(rul_indexed_train_df).transform(rul_indexed_train_df)"
   ]
  },
  {
   "cell_type": "code",
   "execution_count": 26,
   "metadata": {
    "application/vnd.databricks.v1+cell": {
     "inputWidgets": {},
     "nuid": "af720453-1cbc-4270-9542-fd08126c33dc",
     "showTitle": false,
     "title": ""
    }
   },
   "outputs": [],
   "source": [
    "rfparamGrid = (ParamGridBuilder()\n",
    "             .addGrid(rf_model.maxDepth, [2, 5, 10, 20, 30])\n",
    "#                .addGrid(rf_model.maxDepth, [2, 5, 10])\n",
    "             .addGrid(rf_model.maxBins, [10, 20, 40, 80, 100])\n",
    "#                .addGrid(rf_model.maxBins, [5, 10, 20])\n",
    "             .addGrid(rf_model.numTrees, [5, 20, 50, 100, 500])\n",
    "#                .addGrid(rf_model.numTrees, [5, 20, 50])\n",
    "             .build())\n",
    "rfevaluator = RegressionEvaluator(predictionCol=\"RF_prediction\", labelCol=\"label\", metricName=\"rmse\")"
   ]
  },
  {
   "cell_type": "code",
   "execution_count": 27,
   "metadata": {
    "application/vnd.databricks.v1+cell": {
     "inputWidgets": {},
     "nuid": "bf7f3885-6bde-46aa-8b48-d7137e87f9f6",
     "showTitle": false,
     "title": ""
    }
   },
   "outputs": [],
   "source": [
    "rfcv = CrossValidator(estimator = rf_model,\n",
    "                      estimatorParamMaps = rfparamGrid,\n",
    "                      evaluator = rfevaluator,\n",
    "                      numFolds = 5)"
   ]
  },
  {
   "cell_type": "code",
   "execution_count": null,
   "metadata": {
    "application/vnd.databricks.v1+cell": {
     "inputWidgets": {},
     "nuid": "8f6d6165-7309-4953-8a55-8377ae33f312",
     "showTitle": false,
     "title": ""
    }
   },
   "outputs": [],
   "source": [
    "rfcvModel = rfcv.fit(rul_trained_df)\n",
    "print(rfcvModel)\n",
    "\n",
    "# Use test set here so we can measure the accuracy of our model on new data\n",
    "rfpredictions = rfcvModel.transform(rul_trained_df)\n",
    "\n",
    "# cvModel uses the best model found from the Cross Validation\n",
    "# Evaluate best model\n",
    "print('RMSE:', rfevaluator.evaluate(rfpredictions))"
   ]
  },
  {
   "cell_type": "code",
   "execution_count": 28,
   "metadata": {
    "application/vnd.databricks.v1+cell": {
     "inputWidgets": {},
     "nuid": "edbce178-3d58-4301-bbf5-72181ce961d1",
     "showTitle": false,
     "title": ""
    }
   },
   "outputs": [
    {
     "name": "stdout",
     "output_type": "stream",
     "text": [
      "Linear Regression Error:  1483.7125275707344\n"
     ]
    }
   ],
   "source": [
    "\n",
    "\n",
    "rul_lr_model = lr_model.fit(rul_trained_df)\n",
    "rul_trained_df = rul_lr_model.transform(rul_trained_df)\n",
    "print('Linear Regression Error: ' ,str(rul_lr_model.summary.meanAbsoluteError))"
   ]
  },
  {
   "cell_type": "code",
   "execution_count": 32,
   "metadata": {},
   "outputs": [
    {
     "data": {
      "text/plain": [
       "Row(SOURCE_KEY='1BY6WEcLGh8j5v7', DATE_TIME=datetime.datetime(2020, 5, 18, 7, 15), AMBIENT_TEMPERATURE=22.19873053333333, MODULE_TEMPERATURE=25.319020466666665, IRRADIATION=0.18703004600000003, PLANT_ID=4135001, AC_POWER=247.4482376761282, DC_POWER=2525.285714, DAILY_YIELD=121.7142857, TOTAL_YIELD=6278771.714, label=2370.0, ACDC=0.09794942682248338, SOURCE_KEY_NUM=4.0, encoded_Source_Key=SparseVector(21, {4: 1.0}), features=SparseVector(28, {0: 22.1987, 1: 25.319, 2: 0.187, 3: 247.4482, 4: 0.0979, 5: 2525.2857, 6: 121.7143, 11: 1.0}), LR_prediction=753.886119193161, RF_prediction=2535.939011025386)"
      ]
     },
     "execution_count": 32,
     "metadata": {},
     "output_type": "execute_result"
    }
   ],
   "source": [
    "rul_trained_df.head()"
   ]
  },
  {
   "cell_type": "code",
   "execution_count": 35,
   "metadata": {},
   "outputs": [],
   "source": [
    "rul_rf_model.write().overwrite().save(f'{model_s3}RF_RUL_Model')"
   ]
  },
  {
   "cell_type": "code",
   "execution_count": null,
   "metadata": {},
   "outputs": [],
   "source": []
  },
  {
   "cell_type": "code",
   "execution_count": 37,
   "metadata": {},
   "outputs": [
    {
     "ename": "AttributeError",
     "evalue": "'RandomForestRegressionModel' object has no attribute 'endpointName'",
     "output_type": "error",
     "traceback": [
      "\u001b[0;31m---------------------------------------------------------------------------\u001b[0m",
      "\u001b[0;31mAttributeError\u001b[0m                            Traceback (most recent call last)",
      "\u001b[0;32m<ipython-input-37-200be82117fd>\u001b[0m in \u001b[0;36m<module>\u001b[0;34m\u001b[0m\n\u001b[0;32m----> 1\u001b[0;31m \u001b[0mrul_rf_model\u001b[0m\u001b[0;34m.\u001b[0m\u001b[0mendpointName\u001b[0m\u001b[0;34m\u001b[0m\u001b[0;34m\u001b[0m\u001b[0m\n\u001b[0m",
      "\u001b[0;31mAttributeError\u001b[0m: 'RandomForestRegressionModel' object has no attribute 'endpointName'"
     ]
    }
   ],
   "source": [
    "from sagemaker_pyspark import SageMakerModel\n",
    "from sagemaker_pyspark import EndpointCreationPolicy\n",
    "from sagemaker_pyspark.transformation.serializers import ProtobufRequestRowSerializer\n",
    "from sagemaker_pyspark.transformation.deserializers import KMeansProtobufResponseRowDeserializer\n",
    "\n",
    "attachedModel = SageMakerModel(\n",
    "    existingEndpointName=ENDPOINT_NAME,\n",
    "    endpointCreationPolicy=EndpointCreationPolicy.DO_NOT_CREATE,\n",
    "    endpointInstanceType=None,  # Required\n",
    "    endpointInitialInstanceCount=None,  # Required\n",
    "    requestRowSerializer=ProtobufRequestRowSerializer(\n",
    "        featuresColumnName=\"features\"\n",
    "    ),  # Optional: already default value\n",
    "    responseRowDeserializer=KMeansProtobufResponseRowDeserializer(  # Optional: already default values\n",
    "        distance_to_cluster_column_name=\"distance_to_cluster\",\n",
    "        closest_cluster_column_name=\"closest_cluster\",\n",
    "    ),\n",
    ")"
   ]
  },
  {
   "cell_type": "code",
   "execution_count": 36,
   "metadata": {
    "application/vnd.databricks.v1+cell": {
     "inputWidgets": {},
     "nuid": "b4e5ac58-be58-4c3a-b0fb-a9c42e14de59",
     "showTitle": false,
     "title": ""
    }
   },
   "outputs": [],
   "source": [
    "rul_rf_model = rf_model.fit(rul_trained_df)\n",
    "rul_trained_df = rul_rf_model.transform(rul_trained_df)\n",
    "# print('Randomforest Regression Error: ' ,str(rul_rf_model.stages[-1].summary.meanAbsoluteError))"
   ]
  },
  {
   "cell_type": "code",
   "execution_count": null,
   "metadata": {
    "application/vnd.databricks.v1+cell": {
     "inputWidgets": {},
     "nuid": "8d05d164-101e-43a3-adb3-3240936aa532",
     "showTitle": false,
     "title": ""
    }
   },
   "outputs": [],
   "source": [
    "for i in zip(independent_features,rul_rf_model.featureImportances):\n",
    "  print(i)"
   ]
  },
  {
   "cell_type": "code",
   "execution_count": null,
   "metadata": {
    "application/vnd.databricks.v1+cell": {
     "inputWidgets": {},
     "nuid": "3c6b6aba-e3db-4507-9e66-6b1c0dffeaaa",
     "showTitle": false,
     "title": ""
    }
   },
   "outputs": [],
   "source": [
    "rul_trained_df.select('SOURCE_KEY').distinct().collect()"
   ]
  },
  {
   "cell_type": "code",
   "execution_count": null,
   "metadata": {
    "application/vnd.databricks.v1+cell": {
     "inputWidgets": {},
     "nuid": "d92cef7d-795c-4f89-bc69-5c9b960780fc",
     "showTitle": false,
     "title": ""
    }
   },
   "outputs": [],
   "source": [
    "display(rul_trained_df.filter(col('SOURCE_KEY')=='bvBOhCH3iADSZry').select('SOURCE_KEY','DATE_TIME','RF_Prediction','LR_Prediction','label'))"
   ]
  },
  {
   "cell_type": "code",
   "execution_count": null,
   "metadata": {
    "application/vnd.databricks.v1+cell": {
     "inputWidgets": {},
     "nuid": "2b0a7785-d1d8-4fc9-969a-d632742b4c82",
     "showTitle": false,
     "title": ""
    }
   },
   "outputs": [],
   "source": [
    "rul_trained_df = rul_trained_df.withColumn('acdc',col('DC_POWER')/col('AC_POWER'))"
   ]
  },
  {
   "cell_type": "code",
   "execution_count": null,
   "metadata": {
    "application/vnd.databricks.v1+cell": {
     "inputWidgets": {},
     "nuid": "0e12c763-766e-457c-8412-316bf28d9f48",
     "showTitle": false,
     "title": ""
    }
   },
   "outputs": [],
   "source": [
    "display(rul_trained_df.filter(col('SOURCE_KEY')=='1BY6WEcLGh8j5v7').select('DATE_TIME',*(independent_features[:-1]),'label'))"
   ]
  }
 ],
 "metadata": {
  "application/vnd.databricks.v1+notebook": {
   "dashboards": [],
   "language": "python",
   "notebookMetadata": {
    "pythonIndentUnit": 2
   },
   "notebookName": "SolarPower-RULPreprocessing",
   "notebookOrigID": 4021020246973347,
   "widgets": {}
  },
  "kernelspec": {
   "display_name": "conda_python3",
   "language": "python",
   "name": "conda_python3"
  },
  "language_info": {
   "codemirror_mode": {
    "name": "ipython",
    "version": 3
   },
   "file_extension": ".py",
   "mimetype": "text/x-python",
   "name": "python",
   "nbconvert_exporter": "python",
   "pygments_lexer": "ipython3",
   "version": "3.6.13"
  }
 },
 "nbformat": 4,
 "nbformat_minor": 4
}
